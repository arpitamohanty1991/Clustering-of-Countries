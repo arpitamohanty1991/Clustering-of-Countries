{
  "nbformat": 4,
  "nbformat_minor": 0,
  "metadata": {
    "colab": {
      "name": "Copy of Untitled14.ipynb",
      "provenance": [],
      "collapsed_sections": [],
      "authorship_tag": "ABX9TyMgpuhCb21uv1rwnlbPZwpO",
      "include_colab_link": true
    },
    "kernelspec": {
      "name": "python3",
      "display_name": "Python 3"
    }
  },
  "cells": [
    {
      "cell_type": "markdown",
      "metadata": {
        "id": "view-in-github",
        "colab_type": "text"
      },
      "source": [
        "<a href=\"https://colab.research.google.com/github/arpitamohanty1991/Clustering-of-Countries/blob/master/Copy_of_Untitled14.ipynb\" target=\"_parent\"><img src=\"https://colab.research.google.com/assets/colab-badge.svg\" alt=\"Open In Colab\"/></a>"
      ]
    },
    {
      "cell_type": "code",
      "metadata": {
        "id": "ZCyIVX9ID3JF",
        "colab_type": "code",
        "outputId": "419926b7-e668-4993-b14e-d767397e855e",
        "colab": {
          "base_uri": "https://localhost:8080/",
          "height": 71
        }
      },
      "source": [
        "import numpy as np\n",
        "import pandas as pd\n",
        "\n",
        "import matplotlib.pyplot as plt\n",
        "%matplotlib inline\n",
        "import seaborn as sns\n",
        "\n",
        "from sklearn import metrics\n",
        "from sklearn import preprocessing"
      ],
      "execution_count": 0,
      "outputs": [
        {
          "output_type": "stream",
          "text": [
            "/usr/local/lib/python3.6/dist-packages/statsmodels/tools/_testing.py:19: FutureWarning: pandas.util.testing is deprecated. Use the functions in the public API at pandas.testing instead.\n",
            "  import pandas.util.testing as tm\n"
          ],
          "name": "stderr"
        }
      ]
    },
    {
      "cell_type": "code",
      "metadata": {
        "id": "veI23U26FPGA",
        "colab_type": "code",
        "outputId": "bd7bc1aa-05fc-49d5-8422-d8e0767502a4",
        "colab": {
          "resources": {
            "http://localhost:8080/nbextensions/google.colab/files.js": {
              "data": "Ly8gQ29weXJpZ2h0IDIwMTcgR29vZ2xlIExMQwovLwovLyBMaWNlbnNlZCB1bmRlciB0aGUgQXBhY2hlIExpY2Vuc2UsIFZlcnNpb24gMi4wICh0aGUgIkxpY2Vuc2UiKTsKLy8geW91IG1heSBub3QgdXNlIHRoaXMgZmlsZSBleGNlcHQgaW4gY29tcGxpYW5jZSB3aXRoIHRoZSBMaWNlbnNlLgovLyBZb3UgbWF5IG9idGFpbiBhIGNvcHkgb2YgdGhlIExpY2Vuc2UgYXQKLy8KLy8gICAgICBodHRwOi8vd3d3LmFwYWNoZS5vcmcvbGljZW5zZXMvTElDRU5TRS0yLjAKLy8KLy8gVW5sZXNzIHJlcXVpcmVkIGJ5IGFwcGxpY2FibGUgbGF3IG9yIGFncmVlZCB0byBpbiB3cml0aW5nLCBzb2Z0d2FyZQovLyBkaXN0cmlidXRlZCB1bmRlciB0aGUgTGljZW5zZSBpcyBkaXN0cmlidXRlZCBvbiBhbiAiQVMgSVMiIEJBU0lTLAovLyBXSVRIT1VUIFdBUlJBTlRJRVMgT1IgQ09ORElUSU9OUyBPRiBBTlkgS0lORCwgZWl0aGVyIGV4cHJlc3Mgb3IgaW1wbGllZC4KLy8gU2VlIHRoZSBMaWNlbnNlIGZvciB0aGUgc3BlY2lmaWMgbGFuZ3VhZ2UgZ292ZXJuaW5nIHBlcm1pc3Npb25zIGFuZAovLyBsaW1pdGF0aW9ucyB1bmRlciB0aGUgTGljZW5zZS4KCi8qKgogKiBAZmlsZW92ZXJ2aWV3IEhlbHBlcnMgZm9yIGdvb2dsZS5jb2xhYiBQeXRob24gbW9kdWxlLgogKi8KKGZ1bmN0aW9uKHNjb3BlKSB7CmZ1bmN0aW9uIHNwYW4odGV4dCwgc3R5bGVBdHRyaWJ1dGVzID0ge30pIHsKICBjb25zdCBlbGVtZW50ID0gZG9jdW1lbnQuY3JlYXRlRWxlbWVudCgnc3BhbicpOwogIGVsZW1lbnQudGV4dENvbnRlbnQgPSB0ZXh0OwogIGZvciAoY29uc3Qga2V5IG9mIE9iamVjdC5rZXlzKHN0eWxlQXR0cmlidXRlcykpIHsKICAgIGVsZW1lbnQuc3R5bGVba2V5XSA9IHN0eWxlQXR0cmlidXRlc1trZXldOwogIH0KICByZXR1cm4gZWxlbWVudDsKfQoKLy8gTWF4IG51bWJlciBvZiBieXRlcyB3aGljaCB3aWxsIGJlIHVwbG9hZGVkIGF0IGEgdGltZS4KY29uc3QgTUFYX1BBWUxPQURfU0laRSA9IDEwMCAqIDEwMjQ7Ci8vIE1heCBhbW91bnQgb2YgdGltZSB0byBibG9jayB3YWl0aW5nIGZvciB0aGUgdXNlci4KY29uc3QgRklMRV9DSEFOR0VfVElNRU9VVF9NUyA9IDMwICogMTAwMDsKCmZ1bmN0aW9uIF91cGxvYWRGaWxlcyhpbnB1dElkLCBvdXRwdXRJZCkgewogIGNvbnN0IHN0ZXBzID0gdXBsb2FkRmlsZXNTdGVwKGlucHV0SWQsIG91dHB1dElkKTsKICBjb25zdCBvdXRwdXRFbGVtZW50ID0gZG9jdW1lbnQuZ2V0RWxlbWVudEJ5SWQob3V0cHV0SWQpOwogIC8vIENhY2hlIHN0ZXBzIG9uIHRoZSBvdXRwdXRFbGVtZW50IHRvIG1ha2UgaXQgYXZhaWxhYmxlIGZvciB0aGUgbmV4dCBjYWxsCiAgLy8gdG8gdXBsb2FkRmlsZXNDb250aW51ZSBmcm9tIFB5dGhvbi4KICBvdXRwdXRFbGVtZW50LnN0ZXBzID0gc3RlcHM7CgogIHJldHVybiBfdXBsb2FkRmlsZXNDb250aW51ZShvdXRwdXRJZCk7Cn0KCi8vIFRoaXMgaXMgcm91Z2hseSBhbiBhc3luYyBnZW5lcmF0b3IgKG5vdCBzdXBwb3J0ZWQgaW4gdGhlIGJyb3dzZXIgeWV0KSwKLy8gd2hlcmUgdGhlcmUgYXJlIG11bHRpcGxlIGFzeW5jaHJvbm91cyBzdGVwcyBhbmQgdGhlIFB5dGhvbiBzaWRlIGlzIGdvaW5nCi8vIHRvIHBvbGwgZm9yIGNvbXBsZXRpb24gb2YgZWFjaCBzdGVwLgovLyBUaGlzIHVzZXMgYSBQcm9taXNlIHRvIGJsb2NrIHRoZSBweXRob24gc2lkZSBvbiBjb21wbGV0aW9uIG9mIGVhY2ggc3RlcCwKLy8gdGhlbiBwYXNzZXMgdGhlIHJlc3VsdCBvZiB0aGUgcHJldmlvdXMgc3RlcCBhcyB0aGUgaW5wdXQgdG8gdGhlIG5leHQgc3RlcC4KZnVuY3Rpb24gX3VwbG9hZEZpbGVzQ29udGludWUob3V0cHV0SWQpIHsKICBjb25zdCBvdXRwdXRFbGVtZW50ID0gZG9jdW1lbnQuZ2V0RWxlbWVudEJ5SWQob3V0cHV0SWQpOwogIGNvbnN0IHN0ZXBzID0gb3V0cHV0RWxlbWVudC5zdGVwczsKCiAgY29uc3QgbmV4dCA9IHN0ZXBzLm5leHQob3V0cHV0RWxlbWVudC5sYXN0UHJvbWlzZVZhbHVlKTsKICByZXR1cm4gUHJvbWlzZS5yZXNvbHZlKG5leHQudmFsdWUucHJvbWlzZSkudGhlbigodmFsdWUpID0+IHsKICAgIC8vIENhY2hlIHRoZSBsYXN0IHByb21pc2UgdmFsdWUgdG8gbWFrZSBpdCBhdmFpbGFibGUgdG8gdGhlIG5leHQKICAgIC8vIHN0ZXAgb2YgdGhlIGdlbmVyYXRvci4KICAgIG91dHB1dEVsZW1lbnQubGFzdFByb21pc2VWYWx1ZSA9IHZhbHVlOwogICAgcmV0dXJuIG5leHQudmFsdWUucmVzcG9uc2U7CiAgfSk7Cn0KCi8qKgogKiBHZW5lcmF0b3IgZnVuY3Rpb24gd2hpY2ggaXMgY2FsbGVkIGJldHdlZW4gZWFjaCBhc3luYyBzdGVwIG9mIHRoZSB1cGxvYWQKICogcHJvY2Vzcy4KICogQHBhcmFtIHtzdHJpbmd9IGlucHV0SWQgRWxlbWVudCBJRCBvZiB0aGUgaW5wdXQgZmlsZSBwaWNrZXIgZWxlbWVudC4KICogQHBhcmFtIHtzdHJpbmd9IG91dHB1dElkIEVsZW1lbnQgSUQgb2YgdGhlIG91dHB1dCBkaXNwbGF5LgogKiBAcmV0dXJuIHshSXRlcmFibGU8IU9iamVjdD59IEl0ZXJhYmxlIG9mIG5leHQgc3RlcHMuCiAqLwpmdW5jdGlvbiogdXBsb2FkRmlsZXNTdGVwKGlucHV0SWQsIG91dHB1dElkKSB7CiAgY29uc3QgaW5wdXRFbGVtZW50ID0gZG9jdW1lbnQuZ2V0RWxlbWVudEJ5SWQoaW5wdXRJZCk7CiAgaW5wdXRFbGVtZW50LmRpc2FibGVkID0gZmFsc2U7CgogIGNvbnN0IG91dHB1dEVsZW1lbnQgPSBkb2N1bWVudC5nZXRFbGVtZW50QnlJZChvdXRwdXRJZCk7CiAgb3V0cHV0RWxlbWVudC5pbm5lckhUTUwgPSAnJzsKCiAgY29uc3QgcGlja2VkUHJvbWlzZSA9IG5ldyBQcm9taXNlKChyZXNvbHZlKSA9PiB7CiAgICBpbnB1dEVsZW1lbnQuYWRkRXZlbnRMaXN0ZW5lcignY2hhbmdlJywgKGUpID0+IHsKICAgICAgcmVzb2x2ZShlLnRhcmdldC5maWxlcyk7CiAgICB9KTsKICB9KTsKCiAgY29uc3QgY2FuY2VsID0gZG9jdW1lbnQuY3JlYXRlRWxlbWVudCgnYnV0dG9uJyk7CiAgaW5wdXRFbGVtZW50LnBhcmVudEVsZW1lbnQuYXBwZW5kQ2hpbGQoY2FuY2VsKTsKICBjYW5jZWwudGV4dENvbnRlbnQgPSAnQ2FuY2VsIHVwbG9hZCc7CiAgY29uc3QgY2FuY2VsUHJvbWlzZSA9IG5ldyBQcm9taXNlKChyZXNvbHZlKSA9PiB7CiAgICBjYW5jZWwub25jbGljayA9ICgpID0+IHsKICAgICAgcmVzb2x2ZShudWxsKTsKICAgIH07CiAgfSk7CgogIC8vIENhbmNlbCB1cGxvYWQgaWYgdXNlciBoYXNuJ3QgcGlja2VkIGFueXRoaW5nIGluIHRpbWVvdXQuCiAgY29uc3QgdGltZW91dFByb21pc2UgPSBuZXcgUHJvbWlzZSgocmVzb2x2ZSkgPT4gewogICAgc2V0VGltZW91dCgoKSA9PiB7CiAgICAgIHJlc29sdmUobnVsbCk7CiAgICB9LCBGSUxFX0NIQU5HRV9USU1FT1VUX01TKTsKICB9KTsKCiAgLy8gV2FpdCBmb3IgdGhlIHVzZXIgdG8gcGljayB0aGUgZmlsZXMuCiAgY29uc3QgZmlsZXMgPSB5aWVsZCB7CiAgICBwcm9taXNlOiBQcm9taXNlLnJhY2UoW3BpY2tlZFByb21pc2UsIHRpbWVvdXRQcm9taXNlLCBjYW5jZWxQcm9taXNlXSksCiAgICByZXNwb25zZTogewogICAgICBhY3Rpb246ICdzdGFydGluZycsCiAgICB9CiAgfTsKCiAgaWYgKCFmaWxlcykgewogICAgcmV0dXJuIHsKICAgICAgcmVzcG9uc2U6IHsKICAgICAgICBhY3Rpb246ICdjb21wbGV0ZScsCiAgICAgIH0KICAgIH07CiAgfQoKICBjYW5jZWwucmVtb3ZlKCk7CgogIC8vIERpc2FibGUgdGhlIGlucHV0IGVsZW1lbnQgc2luY2UgZnVydGhlciBwaWNrcyBhcmUgbm90IGFsbG93ZWQuCiAgaW5wdXRFbGVtZW50LmRpc2FibGVkID0gdHJ1ZTsKCiAgZm9yIChjb25zdCBmaWxlIG9mIGZpbGVzKSB7CiAgICBjb25zdCBsaSA9IGRvY3VtZW50LmNyZWF0ZUVsZW1lbnQoJ2xpJyk7CiAgICBsaS5hcHBlbmQoc3BhbihmaWxlLm5hbWUsIHtmb250V2VpZ2h0OiAnYm9sZCd9KSk7CiAgICBsaS5hcHBlbmQoc3BhbigKICAgICAgICBgKCR7ZmlsZS50eXBlIHx8ICduL2EnfSkgLSAke2ZpbGUuc2l6ZX0gYnl0ZXMsIGAgKwogICAgICAgIGBsYXN0IG1vZGlmaWVkOiAkewogICAgICAgICAgICBmaWxlLmxhc3RNb2RpZmllZERhdGUgPyBmaWxlLmxhc3RNb2RpZmllZERhdGUudG9Mb2NhbGVEYXRlU3RyaW5nKCkgOgogICAgICAgICAgICAgICAgICAgICAgICAgICAgICAgICAgICAnbi9hJ30gLSBgKSk7CiAgICBjb25zdCBwZXJjZW50ID0gc3BhbignMCUgZG9uZScpOwogICAgbGkuYXBwZW5kQ2hpbGQocGVyY2VudCk7CgogICAgb3V0cHV0RWxlbWVudC5hcHBlbmRDaGlsZChsaSk7CgogICAgY29uc3QgZmlsZURhdGFQcm9taXNlID0gbmV3IFByb21pc2UoKHJlc29sdmUpID0+IHsKICAgICAgY29uc3QgcmVhZGVyID0gbmV3IEZpbGVSZWFkZXIoKTsKICAgICAgcmVhZGVyLm9ubG9hZCA9IChlKSA9PiB7CiAgICAgICAgcmVzb2x2ZShlLnRhcmdldC5yZXN1bHQpOwogICAgICB9OwogICAgICByZWFkZXIucmVhZEFzQXJyYXlCdWZmZXIoZmlsZSk7CiAgICB9KTsKICAgIC8vIFdhaXQgZm9yIHRoZSBkYXRhIHRvIGJlIHJlYWR5LgogICAgbGV0IGZpbGVEYXRhID0geWllbGQgewogICAgICBwcm9taXNlOiBmaWxlRGF0YVByb21pc2UsCiAgICAgIHJlc3BvbnNlOiB7CiAgICAgICAgYWN0aW9uOiAnY29udGludWUnLAogICAgICB9CiAgICB9OwoKICAgIC8vIFVzZSBhIGNodW5rZWQgc2VuZGluZyB0byBhdm9pZCBtZXNzYWdlIHNpemUgbGltaXRzLiBTZWUgYi82MjExNTY2MC4KICAgIGxldCBwb3NpdGlvbiA9IDA7CiAgICB3aGlsZSAocG9zaXRpb24gPCBmaWxlRGF0YS5ieXRlTGVuZ3RoKSB7CiAgICAgIGNvbnN0IGxlbmd0aCA9IE1hdGgubWluKGZpbGVEYXRhLmJ5dGVMZW5ndGggLSBwb3NpdGlvbiwgTUFYX1BBWUxPQURfU0laRSk7CiAgICAgIGNvbnN0IGNodW5rID0gbmV3IFVpbnQ4QXJyYXkoZmlsZURhdGEsIHBvc2l0aW9uLCBsZW5ndGgpOwogICAgICBwb3NpdGlvbiArPSBsZW5ndGg7CgogICAgICBjb25zdCBiYXNlNjQgPSBidG9hKFN0cmluZy5mcm9tQ2hhckNvZGUuYXBwbHkobnVsbCwgY2h1bmspKTsKICAgICAgeWllbGQgewogICAgICAgIHJlc3BvbnNlOiB7CiAgICAgICAgICBhY3Rpb246ICdhcHBlbmQnLAogICAgICAgICAgZmlsZTogZmlsZS5uYW1lLAogICAgICAgICAgZGF0YTogYmFzZTY0LAogICAgICAgIH0sCiAgICAgIH07CiAgICAgIHBlcmNlbnQudGV4dENvbnRlbnQgPQogICAgICAgICAgYCR7TWF0aC5yb3VuZCgocG9zaXRpb24gLyBmaWxlRGF0YS5ieXRlTGVuZ3RoKSAqIDEwMCl9JSBkb25lYDsKICAgIH0KICB9CgogIC8vIEFsbCBkb25lLgogIHlpZWxkIHsKICAgIHJlc3BvbnNlOiB7CiAgICAgIGFjdGlvbjogJ2NvbXBsZXRlJywKICAgIH0KICB9Owp9CgpzY29wZS5nb29nbGUgPSBzY29wZS5nb29nbGUgfHwge307CnNjb3BlLmdvb2dsZS5jb2xhYiA9IHNjb3BlLmdvb2dsZS5jb2xhYiB8fCB7fTsKc2NvcGUuZ29vZ2xlLmNvbGFiLl9maWxlcyA9IHsKICBfdXBsb2FkRmlsZXMsCiAgX3VwbG9hZEZpbGVzQ29udGludWUsCn07Cn0pKHNlbGYpOwo=",
              "ok": true,
              "headers": [
                [
                  "content-type",
                  "application/javascript"
                ]
              ],
              "status": 200,
              "status_text": ""
            }
          },
          "base_uri": "https://localhost:8080/",
          "height": 74
        }
      },
      "source": [
        "from google.colab import files\n",
        "uploaded = files.upload()"
      ],
      "execution_count": 6,
      "outputs": [
        {
          "output_type": "display_data",
          "data": {
            "text/html": [
              "\n",
              "     <input type=\"file\" id=\"files-8740d255-30f0-48d3-9511-2f3ea6063764\" name=\"files[]\" multiple disabled />\n",
              "     <output id=\"result-8740d255-30f0-48d3-9511-2f3ea6063764\">\n",
              "      Upload widget is only available when the cell has been executed in the\n",
              "      current browser session. Please rerun this cell to enable.\n",
              "      </output>\n",
              "      <script src=\"/nbextensions/google.colab/files.js\"></script> "
            ],
            "text/plain": [
              "<IPython.core.display.HTML object>"
            ]
          },
          "metadata": {
            "tags": []
          }
        },
        {
          "output_type": "stream",
          "text": [
            "Saving creditcard.csv to creditcard (1).csv\n"
          ],
          "name": "stdout"
        }
      ]
    },
    {
      "cell_type": "code",
      "metadata": {
        "id": "mEX-lwdXB7qF",
        "colab_type": "code",
        "colab": {}
      },
      "source": [
        "import io\n",
        "data = pd.read_csv(io.BytesIO(uploaded['creditcard.csv']))\n",
        "# Dataset is now stored in a Pandas Dataframe"
      ],
      "execution_count": 0,
      "outputs": []
    },
    {
      "cell_type": "code",
      "metadata": {
        "id": "ziM35RuY28Ym",
        "colab_type": "code",
        "outputId": "15e8d888-4e3f-4c02-aef1-0ddc46af8263",
        "colab": {
          "base_uri": "https://localhost:8080/",
          "height": 224
        }
      },
      "source": [
        "data.head()"
      ],
      "execution_count": 9,
      "outputs": [
        {
          "output_type": "execute_result",
          "data": {
            "text/html": [
              "<div>\n",
              "<style scoped>\n",
              "    .dataframe tbody tr th:only-of-type {\n",
              "        vertical-align: middle;\n",
              "    }\n",
              "\n",
              "    .dataframe tbody tr th {\n",
              "        vertical-align: top;\n",
              "    }\n",
              "\n",
              "    .dataframe thead th {\n",
              "        text-align: right;\n",
              "    }\n",
              "</style>\n",
              "<table border=\"1\" class=\"dataframe\">\n",
              "  <thead>\n",
              "    <tr style=\"text-align: right;\">\n",
              "      <th></th>\n",
              "      <th>Time</th>\n",
              "      <th>V1</th>\n",
              "      <th>V2</th>\n",
              "      <th>V3</th>\n",
              "      <th>V4</th>\n",
              "      <th>V5</th>\n",
              "      <th>V6</th>\n",
              "      <th>V7</th>\n",
              "      <th>V8</th>\n",
              "      <th>V9</th>\n",
              "      <th>V10</th>\n",
              "      <th>V11</th>\n",
              "      <th>V12</th>\n",
              "      <th>V13</th>\n",
              "      <th>V14</th>\n",
              "      <th>V15</th>\n",
              "      <th>V16</th>\n",
              "      <th>V17</th>\n",
              "      <th>V18</th>\n",
              "      <th>V19</th>\n",
              "      <th>V20</th>\n",
              "      <th>V21</th>\n",
              "      <th>V22</th>\n",
              "      <th>V23</th>\n",
              "      <th>V24</th>\n",
              "      <th>V25</th>\n",
              "      <th>V26</th>\n",
              "      <th>V27</th>\n",
              "      <th>V28</th>\n",
              "      <th>Amount</th>\n",
              "      <th>Class</th>\n",
              "    </tr>\n",
              "  </thead>\n",
              "  <tbody>\n",
              "    <tr>\n",
              "      <th>0</th>\n",
              "      <td>0.0</td>\n",
              "      <td>-1.359807</td>\n",
              "      <td>-0.072781</td>\n",
              "      <td>2.536347</td>\n",
              "      <td>1.378155</td>\n",
              "      <td>-0.338321</td>\n",
              "      <td>0.462388</td>\n",
              "      <td>0.239599</td>\n",
              "      <td>0.098698</td>\n",
              "      <td>0.363787</td>\n",
              "      <td>0.090794</td>\n",
              "      <td>-0.551600</td>\n",
              "      <td>-0.617801</td>\n",
              "      <td>-0.991390</td>\n",
              "      <td>-0.311169</td>\n",
              "      <td>1.468177</td>\n",
              "      <td>-0.470401</td>\n",
              "      <td>0.207971</td>\n",
              "      <td>0.025791</td>\n",
              "      <td>0.403993</td>\n",
              "      <td>0.251412</td>\n",
              "      <td>-0.018307</td>\n",
              "      <td>0.277838</td>\n",
              "      <td>-0.110474</td>\n",
              "      <td>0.066928</td>\n",
              "      <td>0.128539</td>\n",
              "      <td>-0.189115</td>\n",
              "      <td>0.133558</td>\n",
              "      <td>-0.021053</td>\n",
              "      <td>149.62</td>\n",
              "      <td>0</td>\n",
              "    </tr>\n",
              "    <tr>\n",
              "      <th>1</th>\n",
              "      <td>0.0</td>\n",
              "      <td>1.191857</td>\n",
              "      <td>0.266151</td>\n",
              "      <td>0.166480</td>\n",
              "      <td>0.448154</td>\n",
              "      <td>0.060018</td>\n",
              "      <td>-0.082361</td>\n",
              "      <td>-0.078803</td>\n",
              "      <td>0.085102</td>\n",
              "      <td>-0.255425</td>\n",
              "      <td>-0.166974</td>\n",
              "      <td>1.612727</td>\n",
              "      <td>1.065235</td>\n",
              "      <td>0.489095</td>\n",
              "      <td>-0.143772</td>\n",
              "      <td>0.635558</td>\n",
              "      <td>0.463917</td>\n",
              "      <td>-0.114805</td>\n",
              "      <td>-0.183361</td>\n",
              "      <td>-0.145783</td>\n",
              "      <td>-0.069083</td>\n",
              "      <td>-0.225775</td>\n",
              "      <td>-0.638672</td>\n",
              "      <td>0.101288</td>\n",
              "      <td>-0.339846</td>\n",
              "      <td>0.167170</td>\n",
              "      <td>0.125895</td>\n",
              "      <td>-0.008983</td>\n",
              "      <td>0.014724</td>\n",
              "      <td>2.69</td>\n",
              "      <td>0</td>\n",
              "    </tr>\n",
              "    <tr>\n",
              "      <th>2</th>\n",
              "      <td>1.0</td>\n",
              "      <td>-1.358354</td>\n",
              "      <td>-1.340163</td>\n",
              "      <td>1.773209</td>\n",
              "      <td>0.379780</td>\n",
              "      <td>-0.503198</td>\n",
              "      <td>1.800499</td>\n",
              "      <td>0.791461</td>\n",
              "      <td>0.247676</td>\n",
              "      <td>-1.514654</td>\n",
              "      <td>0.207643</td>\n",
              "      <td>0.624501</td>\n",
              "      <td>0.066084</td>\n",
              "      <td>0.717293</td>\n",
              "      <td>-0.165946</td>\n",
              "      <td>2.345865</td>\n",
              "      <td>-2.890083</td>\n",
              "      <td>1.109969</td>\n",
              "      <td>-0.121359</td>\n",
              "      <td>-2.261857</td>\n",
              "      <td>0.524980</td>\n",
              "      <td>0.247998</td>\n",
              "      <td>0.771679</td>\n",
              "      <td>0.909412</td>\n",
              "      <td>-0.689281</td>\n",
              "      <td>-0.327642</td>\n",
              "      <td>-0.139097</td>\n",
              "      <td>-0.055353</td>\n",
              "      <td>-0.059752</td>\n",
              "      <td>378.66</td>\n",
              "      <td>0</td>\n",
              "    </tr>\n",
              "    <tr>\n",
              "      <th>3</th>\n",
              "      <td>1.0</td>\n",
              "      <td>-0.966272</td>\n",
              "      <td>-0.185226</td>\n",
              "      <td>1.792993</td>\n",
              "      <td>-0.863291</td>\n",
              "      <td>-0.010309</td>\n",
              "      <td>1.247203</td>\n",
              "      <td>0.237609</td>\n",
              "      <td>0.377436</td>\n",
              "      <td>-1.387024</td>\n",
              "      <td>-0.054952</td>\n",
              "      <td>-0.226487</td>\n",
              "      <td>0.178228</td>\n",
              "      <td>0.507757</td>\n",
              "      <td>-0.287924</td>\n",
              "      <td>-0.631418</td>\n",
              "      <td>-1.059647</td>\n",
              "      <td>-0.684093</td>\n",
              "      <td>1.965775</td>\n",
              "      <td>-1.232622</td>\n",
              "      <td>-0.208038</td>\n",
              "      <td>-0.108300</td>\n",
              "      <td>0.005274</td>\n",
              "      <td>-0.190321</td>\n",
              "      <td>-1.175575</td>\n",
              "      <td>0.647376</td>\n",
              "      <td>-0.221929</td>\n",
              "      <td>0.062723</td>\n",
              "      <td>0.061458</td>\n",
              "      <td>123.50</td>\n",
              "      <td>0</td>\n",
              "    </tr>\n",
              "    <tr>\n",
              "      <th>4</th>\n",
              "      <td>2.0</td>\n",
              "      <td>-1.158233</td>\n",
              "      <td>0.877737</td>\n",
              "      <td>1.548718</td>\n",
              "      <td>0.403034</td>\n",
              "      <td>-0.407193</td>\n",
              "      <td>0.095921</td>\n",
              "      <td>0.592941</td>\n",
              "      <td>-0.270533</td>\n",
              "      <td>0.817739</td>\n",
              "      <td>0.753074</td>\n",
              "      <td>-0.822843</td>\n",
              "      <td>0.538196</td>\n",
              "      <td>1.345852</td>\n",
              "      <td>-1.119670</td>\n",
              "      <td>0.175121</td>\n",
              "      <td>-0.451449</td>\n",
              "      <td>-0.237033</td>\n",
              "      <td>-0.038195</td>\n",
              "      <td>0.803487</td>\n",
              "      <td>0.408542</td>\n",
              "      <td>-0.009431</td>\n",
              "      <td>0.798278</td>\n",
              "      <td>-0.137458</td>\n",
              "      <td>0.141267</td>\n",
              "      <td>-0.206010</td>\n",
              "      <td>0.502292</td>\n",
              "      <td>0.219422</td>\n",
              "      <td>0.215153</td>\n",
              "      <td>69.99</td>\n",
              "      <td>0</td>\n",
              "    </tr>\n",
              "  </tbody>\n",
              "</table>\n",
              "</div>"
            ],
            "text/plain": [
              "   Time        V1        V2        V3  ...       V27       V28  Amount  Class\n",
              "0   0.0 -1.359807 -0.072781  2.536347  ...  0.133558 -0.021053  149.62      0\n",
              "1   0.0  1.191857  0.266151  0.166480  ... -0.008983  0.014724    2.69      0\n",
              "2   1.0 -1.358354 -1.340163  1.773209  ... -0.055353 -0.059752  378.66      0\n",
              "3   1.0 -0.966272 -0.185226  1.792993  ...  0.062723  0.061458  123.50      0\n",
              "4   2.0 -1.158233  0.877737  1.548718  ...  0.219422  0.215153   69.99      0\n",
              "\n",
              "[5 rows x 31 columns]"
            ]
          },
          "metadata": {
            "tags": []
          },
          "execution_count": 9
        }
      ]
    },
    {
      "cell_type": "code",
      "metadata": {
        "id": "wOJpIKwI3D32",
        "colab_type": "code",
        "outputId": "d82f2ab0-9f22-4f11-9719-38b7eccc70d8",
        "colab": {
          "base_uri": "https://localhost:8080/",
          "height": 54
        }
      },
      "source": [
        "#Get the column names\n",
        "print([i for i in data.columns]) #Here we could have simply done data.columns, but it would have returned a slightly different output. Index and object type additional informatinon."
      ],
      "execution_count": 10,
      "outputs": [
        {
          "output_type": "stream",
          "text": [
            "['Time', 'V1', 'V2', 'V3', 'V4', 'V5', 'V6', 'V7', 'V8', 'V9', 'V10', 'V11', 'V12', 'V13', 'V14', 'V15', 'V16', 'V17', 'V18', 'V19', 'V20', 'V21', 'V22', 'V23', 'V24', 'V25', 'V26', 'V27', 'V28', 'Amount', 'Class']\n"
          ],
          "name": "stdout"
        }
      ]
    },
    {
      "cell_type": "markdown",
      "metadata": {
        "id": "m0TV0HV53Hix",
        "colab_type": "text"
      },
      "source": [
        "Time is basically the number of seconds elapsed between a transaction and the first transaction in the dataset. We will leverage this to build a time based model."
      ]
    },
    {
      "cell_type": "code",
      "metadata": {
        "id": "eW2goGqy3JZ9",
        "colab_type": "code",
        "outputId": "660ed765-dcf5-4007-cca0-7aa42c869033",
        "colab": {
          "base_uri": "https://localhost:8080/",
          "height": 317
        }
      },
      "source": [
        "#Get high level statistical view of the dataset\n",
        "data.describe()"
      ],
      "execution_count": 11,
      "outputs": [
        {
          "output_type": "execute_result",
          "data": {
            "text/html": [
              "<div>\n",
              "<style scoped>\n",
              "    .dataframe tbody tr th:only-of-type {\n",
              "        vertical-align: middle;\n",
              "    }\n",
              "\n",
              "    .dataframe tbody tr th {\n",
              "        vertical-align: top;\n",
              "    }\n",
              "\n",
              "    .dataframe thead th {\n",
              "        text-align: right;\n",
              "    }\n",
              "</style>\n",
              "<table border=\"1\" class=\"dataframe\">\n",
              "  <thead>\n",
              "    <tr style=\"text-align: right;\">\n",
              "      <th></th>\n",
              "      <th>Time</th>\n",
              "      <th>V1</th>\n",
              "      <th>V2</th>\n",
              "      <th>V3</th>\n",
              "      <th>V4</th>\n",
              "      <th>V5</th>\n",
              "      <th>V6</th>\n",
              "      <th>V7</th>\n",
              "      <th>V8</th>\n",
              "      <th>V9</th>\n",
              "      <th>V10</th>\n",
              "      <th>V11</th>\n",
              "      <th>V12</th>\n",
              "      <th>V13</th>\n",
              "      <th>V14</th>\n",
              "      <th>V15</th>\n",
              "      <th>V16</th>\n",
              "      <th>V17</th>\n",
              "      <th>V18</th>\n",
              "      <th>V19</th>\n",
              "      <th>V20</th>\n",
              "      <th>V21</th>\n",
              "      <th>V22</th>\n",
              "      <th>V23</th>\n",
              "      <th>V24</th>\n",
              "      <th>V25</th>\n",
              "      <th>V26</th>\n",
              "      <th>V27</th>\n",
              "      <th>V28</th>\n",
              "      <th>Amount</th>\n",
              "      <th>Class</th>\n",
              "    </tr>\n",
              "  </thead>\n",
              "  <tbody>\n",
              "    <tr>\n",
              "      <th>count</th>\n",
              "      <td>284807.000000</td>\n",
              "      <td>2.848070e+05</td>\n",
              "      <td>2.848070e+05</td>\n",
              "      <td>2.848070e+05</td>\n",
              "      <td>2.848070e+05</td>\n",
              "      <td>2.848070e+05</td>\n",
              "      <td>2.848070e+05</td>\n",
              "      <td>2.848070e+05</td>\n",
              "      <td>2.848070e+05</td>\n",
              "      <td>2.848070e+05</td>\n",
              "      <td>2.848070e+05</td>\n",
              "      <td>2.848070e+05</td>\n",
              "      <td>2.848070e+05</td>\n",
              "      <td>2.848070e+05</td>\n",
              "      <td>2.848070e+05</td>\n",
              "      <td>2.848070e+05</td>\n",
              "      <td>2.848070e+05</td>\n",
              "      <td>2.848070e+05</td>\n",
              "      <td>2.848070e+05</td>\n",
              "      <td>2.848070e+05</td>\n",
              "      <td>2.848070e+05</td>\n",
              "      <td>2.848070e+05</td>\n",
              "      <td>2.848070e+05</td>\n",
              "      <td>2.848070e+05</td>\n",
              "      <td>2.848070e+05</td>\n",
              "      <td>2.848070e+05</td>\n",
              "      <td>2.848070e+05</td>\n",
              "      <td>2.848070e+05</td>\n",
              "      <td>2.848070e+05</td>\n",
              "      <td>284807.000000</td>\n",
              "      <td>284807.000000</td>\n",
              "    </tr>\n",
              "    <tr>\n",
              "      <th>mean</th>\n",
              "      <td>94813.859575</td>\n",
              "      <td>3.919560e-15</td>\n",
              "      <td>5.688174e-16</td>\n",
              "      <td>-8.769071e-15</td>\n",
              "      <td>2.782312e-15</td>\n",
              "      <td>-1.552563e-15</td>\n",
              "      <td>2.010663e-15</td>\n",
              "      <td>-1.694249e-15</td>\n",
              "      <td>-1.927028e-16</td>\n",
              "      <td>-3.137024e-15</td>\n",
              "      <td>1.768627e-15</td>\n",
              "      <td>9.170318e-16</td>\n",
              "      <td>-1.810658e-15</td>\n",
              "      <td>1.693438e-15</td>\n",
              "      <td>1.479045e-15</td>\n",
              "      <td>3.482336e-15</td>\n",
              "      <td>1.392007e-15</td>\n",
              "      <td>-7.528491e-16</td>\n",
              "      <td>4.328772e-16</td>\n",
              "      <td>9.049732e-16</td>\n",
              "      <td>5.085503e-16</td>\n",
              "      <td>1.537294e-16</td>\n",
              "      <td>7.959909e-16</td>\n",
              "      <td>5.367590e-16</td>\n",
              "      <td>4.458112e-15</td>\n",
              "      <td>1.453003e-15</td>\n",
              "      <td>1.699104e-15</td>\n",
              "      <td>-3.660161e-16</td>\n",
              "      <td>-1.206049e-16</td>\n",
              "      <td>88.349619</td>\n",
              "      <td>0.001727</td>\n",
              "    </tr>\n",
              "    <tr>\n",
              "      <th>std</th>\n",
              "      <td>47488.145955</td>\n",
              "      <td>1.958696e+00</td>\n",
              "      <td>1.651309e+00</td>\n",
              "      <td>1.516255e+00</td>\n",
              "      <td>1.415869e+00</td>\n",
              "      <td>1.380247e+00</td>\n",
              "      <td>1.332271e+00</td>\n",
              "      <td>1.237094e+00</td>\n",
              "      <td>1.194353e+00</td>\n",
              "      <td>1.098632e+00</td>\n",
              "      <td>1.088850e+00</td>\n",
              "      <td>1.020713e+00</td>\n",
              "      <td>9.992014e-01</td>\n",
              "      <td>9.952742e-01</td>\n",
              "      <td>9.585956e-01</td>\n",
              "      <td>9.153160e-01</td>\n",
              "      <td>8.762529e-01</td>\n",
              "      <td>8.493371e-01</td>\n",
              "      <td>8.381762e-01</td>\n",
              "      <td>8.140405e-01</td>\n",
              "      <td>7.709250e-01</td>\n",
              "      <td>7.345240e-01</td>\n",
              "      <td>7.257016e-01</td>\n",
              "      <td>6.244603e-01</td>\n",
              "      <td>6.056471e-01</td>\n",
              "      <td>5.212781e-01</td>\n",
              "      <td>4.822270e-01</td>\n",
              "      <td>4.036325e-01</td>\n",
              "      <td>3.300833e-01</td>\n",
              "      <td>250.120109</td>\n",
              "      <td>0.041527</td>\n",
              "    </tr>\n",
              "    <tr>\n",
              "      <th>min</th>\n",
              "      <td>0.000000</td>\n",
              "      <td>-5.640751e+01</td>\n",
              "      <td>-7.271573e+01</td>\n",
              "      <td>-4.832559e+01</td>\n",
              "      <td>-5.683171e+00</td>\n",
              "      <td>-1.137433e+02</td>\n",
              "      <td>-2.616051e+01</td>\n",
              "      <td>-4.355724e+01</td>\n",
              "      <td>-7.321672e+01</td>\n",
              "      <td>-1.343407e+01</td>\n",
              "      <td>-2.458826e+01</td>\n",
              "      <td>-4.797473e+00</td>\n",
              "      <td>-1.868371e+01</td>\n",
              "      <td>-5.791881e+00</td>\n",
              "      <td>-1.921433e+01</td>\n",
              "      <td>-4.498945e+00</td>\n",
              "      <td>-1.412985e+01</td>\n",
              "      <td>-2.516280e+01</td>\n",
              "      <td>-9.498746e+00</td>\n",
              "      <td>-7.213527e+00</td>\n",
              "      <td>-5.449772e+01</td>\n",
              "      <td>-3.483038e+01</td>\n",
              "      <td>-1.093314e+01</td>\n",
              "      <td>-4.480774e+01</td>\n",
              "      <td>-2.836627e+00</td>\n",
              "      <td>-1.029540e+01</td>\n",
              "      <td>-2.604551e+00</td>\n",
              "      <td>-2.256568e+01</td>\n",
              "      <td>-1.543008e+01</td>\n",
              "      <td>0.000000</td>\n",
              "      <td>0.000000</td>\n",
              "    </tr>\n",
              "    <tr>\n",
              "      <th>25%</th>\n",
              "      <td>54201.500000</td>\n",
              "      <td>-9.203734e-01</td>\n",
              "      <td>-5.985499e-01</td>\n",
              "      <td>-8.903648e-01</td>\n",
              "      <td>-8.486401e-01</td>\n",
              "      <td>-6.915971e-01</td>\n",
              "      <td>-7.682956e-01</td>\n",
              "      <td>-5.540759e-01</td>\n",
              "      <td>-2.086297e-01</td>\n",
              "      <td>-6.430976e-01</td>\n",
              "      <td>-5.354257e-01</td>\n",
              "      <td>-7.624942e-01</td>\n",
              "      <td>-4.055715e-01</td>\n",
              "      <td>-6.485393e-01</td>\n",
              "      <td>-4.255740e-01</td>\n",
              "      <td>-5.828843e-01</td>\n",
              "      <td>-4.680368e-01</td>\n",
              "      <td>-4.837483e-01</td>\n",
              "      <td>-4.988498e-01</td>\n",
              "      <td>-4.562989e-01</td>\n",
              "      <td>-2.117214e-01</td>\n",
              "      <td>-2.283949e-01</td>\n",
              "      <td>-5.423504e-01</td>\n",
              "      <td>-1.618463e-01</td>\n",
              "      <td>-3.545861e-01</td>\n",
              "      <td>-3.171451e-01</td>\n",
              "      <td>-3.269839e-01</td>\n",
              "      <td>-7.083953e-02</td>\n",
              "      <td>-5.295979e-02</td>\n",
              "      <td>5.600000</td>\n",
              "      <td>0.000000</td>\n",
              "    </tr>\n",
              "    <tr>\n",
              "      <th>50%</th>\n",
              "      <td>84692.000000</td>\n",
              "      <td>1.810880e-02</td>\n",
              "      <td>6.548556e-02</td>\n",
              "      <td>1.798463e-01</td>\n",
              "      <td>-1.984653e-02</td>\n",
              "      <td>-5.433583e-02</td>\n",
              "      <td>-2.741871e-01</td>\n",
              "      <td>4.010308e-02</td>\n",
              "      <td>2.235804e-02</td>\n",
              "      <td>-5.142873e-02</td>\n",
              "      <td>-9.291738e-02</td>\n",
              "      <td>-3.275735e-02</td>\n",
              "      <td>1.400326e-01</td>\n",
              "      <td>-1.356806e-02</td>\n",
              "      <td>5.060132e-02</td>\n",
              "      <td>4.807155e-02</td>\n",
              "      <td>6.641332e-02</td>\n",
              "      <td>-6.567575e-02</td>\n",
              "      <td>-3.636312e-03</td>\n",
              "      <td>3.734823e-03</td>\n",
              "      <td>-6.248109e-02</td>\n",
              "      <td>-2.945017e-02</td>\n",
              "      <td>6.781943e-03</td>\n",
              "      <td>-1.119293e-02</td>\n",
              "      <td>4.097606e-02</td>\n",
              "      <td>1.659350e-02</td>\n",
              "      <td>-5.213911e-02</td>\n",
              "      <td>1.342146e-03</td>\n",
              "      <td>1.124383e-02</td>\n",
              "      <td>22.000000</td>\n",
              "      <td>0.000000</td>\n",
              "    </tr>\n",
              "    <tr>\n",
              "      <th>75%</th>\n",
              "      <td>139320.500000</td>\n",
              "      <td>1.315642e+00</td>\n",
              "      <td>8.037239e-01</td>\n",
              "      <td>1.027196e+00</td>\n",
              "      <td>7.433413e-01</td>\n",
              "      <td>6.119264e-01</td>\n",
              "      <td>3.985649e-01</td>\n",
              "      <td>5.704361e-01</td>\n",
              "      <td>3.273459e-01</td>\n",
              "      <td>5.971390e-01</td>\n",
              "      <td>4.539234e-01</td>\n",
              "      <td>7.395934e-01</td>\n",
              "      <td>6.182380e-01</td>\n",
              "      <td>6.625050e-01</td>\n",
              "      <td>4.931498e-01</td>\n",
              "      <td>6.488208e-01</td>\n",
              "      <td>5.232963e-01</td>\n",
              "      <td>3.996750e-01</td>\n",
              "      <td>5.008067e-01</td>\n",
              "      <td>4.589494e-01</td>\n",
              "      <td>1.330408e-01</td>\n",
              "      <td>1.863772e-01</td>\n",
              "      <td>5.285536e-01</td>\n",
              "      <td>1.476421e-01</td>\n",
              "      <td>4.395266e-01</td>\n",
              "      <td>3.507156e-01</td>\n",
              "      <td>2.409522e-01</td>\n",
              "      <td>9.104512e-02</td>\n",
              "      <td>7.827995e-02</td>\n",
              "      <td>77.165000</td>\n",
              "      <td>0.000000</td>\n",
              "    </tr>\n",
              "    <tr>\n",
              "      <th>max</th>\n",
              "      <td>172792.000000</td>\n",
              "      <td>2.454930e+00</td>\n",
              "      <td>2.205773e+01</td>\n",
              "      <td>9.382558e+00</td>\n",
              "      <td>1.687534e+01</td>\n",
              "      <td>3.480167e+01</td>\n",
              "      <td>7.330163e+01</td>\n",
              "      <td>1.205895e+02</td>\n",
              "      <td>2.000721e+01</td>\n",
              "      <td>1.559499e+01</td>\n",
              "      <td>2.374514e+01</td>\n",
              "      <td>1.201891e+01</td>\n",
              "      <td>7.848392e+00</td>\n",
              "      <td>7.126883e+00</td>\n",
              "      <td>1.052677e+01</td>\n",
              "      <td>8.877742e+00</td>\n",
              "      <td>1.731511e+01</td>\n",
              "      <td>9.253526e+00</td>\n",
              "      <td>5.041069e+00</td>\n",
              "      <td>5.591971e+00</td>\n",
              "      <td>3.942090e+01</td>\n",
              "      <td>2.720284e+01</td>\n",
              "      <td>1.050309e+01</td>\n",
              "      <td>2.252841e+01</td>\n",
              "      <td>4.584549e+00</td>\n",
              "      <td>7.519589e+00</td>\n",
              "      <td>3.517346e+00</td>\n",
              "      <td>3.161220e+01</td>\n",
              "      <td>3.384781e+01</td>\n",
              "      <td>25691.160000</td>\n",
              "      <td>1.000000</td>\n",
              "    </tr>\n",
              "  </tbody>\n",
              "</table>\n",
              "</div>"
            ],
            "text/plain": [
              "                Time            V1  ...         Amount          Class\n",
              "count  284807.000000  2.848070e+05  ...  284807.000000  284807.000000\n",
              "mean    94813.859575  3.919560e-15  ...      88.349619       0.001727\n",
              "std     47488.145955  1.958696e+00  ...     250.120109       0.041527\n",
              "min         0.000000 -5.640751e+01  ...       0.000000       0.000000\n",
              "25%     54201.500000 -9.203734e-01  ...       5.600000       0.000000\n",
              "50%     84692.000000  1.810880e-02  ...      22.000000       0.000000\n",
              "75%    139320.500000  1.315642e+00  ...      77.165000       0.000000\n",
              "max    172792.000000  2.454930e+00  ...   25691.160000       1.000000\n",
              "\n",
              "[8 rows x 31 columns]"
            ]
          },
          "metadata": {
            "tags": []
          },
          "execution_count": 11
        }
      ]
    },
    {
      "cell_type": "code",
      "metadata": {
        "id": "kn23H8OG3MKX",
        "colab_type": "code",
        "outputId": "a258da97-e819-4399-e1f0-2c44428d7e12",
        "colab": {
          "base_uri": "https://localhost:8080/",
          "height": 346
        }
      },
      "source": [
        "#Check the class distribution in the given data\n",
        "data['Class'].value_counts().plot(figsize=(5,5),kind='bar',legend='True')\n",
        "plt.title(\"Distribution of class labels\")\n",
        "plt.xlabel(\"Classes\")\n",
        "plt.ylabel(\"Number of occurences\")\n",
        "plt.show()"
      ],
      "execution_count": 12,
      "outputs": [
        {
          "output_type": "display_data",
          "data": {
            "image/png": "[encoded data removed]",
            "text/plain": [
              "<Figure size 360x360 with 1 Axes>"
            ]
          },
          "metadata": {
            "tags": [],
            "needs_background": "light"
          }
        }
      ]
    },
    {
      "cell_type": "code",
      "metadata": {
        "id": "I08V3wuB3Qz9",
        "colab_type": "code",
        "outputId": "3cbc85be-af46-43a6-fc5d-84d793300fe3",
        "colab": {
          "base_uri": "https://localhost:8080/",
          "height": 51
        }
      },
      "source": [
        "\n",
        "#Get percentage fradulent information\n",
        "not_fraud=data[data['Class']==0].shape[0]\n",
        "fraud=data[data['Class']==1].shape[0]\n",
        "total=fraud+not_fraud\n",
        "\n",
        "print(\"Percentage of Fradulent transaction: {}\".format(np.round(100*fraud/total,4)))\n",
        "print(\"Percentage of Non Fradulent transaction: {}\".format(np.round(100*not_fraud/total,4)))"
      ],
      "execution_count": 13,
      "outputs": [
        {
          "output_type": "stream",
          "text": [
            "Percentage of Fradulent transaction: 0.1727\n",
            "Percentage of Non Fradulent transaction: 99.8273\n"
          ],
          "name": "stdout"
        }
      ]
    },
    {
      "cell_type": "code",
      "metadata": {
        "id": "JMsfFLb03Ts_",
        "colab_type": "code",
        "colab": {
          "base_uri": "https://localhost:8080/",
          "height": 1000
        },
        "outputId": "2ff75028-2bd3-4620-9020-0bee95aaa8b3"
      },
      "source": [
        "#Check the distribution of all the independent variables\n",
        "data.drop(['Class','Amount','Time'],axis=1).hist(bins=200,color='blue',figsize=(25,50),layout=(8,4))\n",
        "plt.show()"
      ],
      "execution_count": 14,
      "outputs": [
        {
          "output_type": "display_data",
          "data": {
            "image/png": "[encoded data removed]",
            "text/plain": [
              "<Figure size 1800x3600 with 32 Axes>"
            ]
          },
          "metadata": {
            "tags": [],
            "needs_background": "light"
          }
        }
      ]
    },
    {
      "cell_type": "markdown",
      "metadata": {
        "id": "aDUsNq4g3Xi1",
        "colab_type": "text"
      },
      "source": [
        "By looking at the distribution of all the features we can see that there are some features whose distributions are skewed to the left, there are some features whose distributions are skewed to the right and there are some features which appears to have a normal gaussian distribution. Almost all the features have their distributions mean at 0. Some features like V11, V15, V13, V18, V19 has a wider spread compared to other features. Some features like V6, V7, V8 and V28 have a very low spread as compared to other features."
      ]
    },
    {
      "cell_type": "code",
      "metadata": {
        "id": "fVVym13C3ZfQ",
        "colab_type": "code",
        "outputId": "45c6e442-f6ce-486d-b628-df5d76185b31",
        "colab": {
          "base_uri": "https://localhost:8080/",
          "height": 399
        }
      },
      "source": [
        "#Check the dsitribution of time and amount features\n",
        "plt.figure(figsize=(15,6))\n",
        "plt.subplot(1,2,1)\n",
        "sns.distplot(data['Time'],color='red')\n",
        "plt.subplot(1,2,2)\n",
        "sns.distplot(sorted(data['Amount'][0:1000]),color='blue')\n",
        "plt.show()"
      ],
      "execution_count": 15,
      "outputs": [
        {
          "output_type": "display_data",
          "data": {
            "image/png": "[encoded data removed]",
            "text/plain": [
              "<Figure size 1080x432 with 2 Axes>"
            ]
          },
          "metadata": {
            "tags": [],
            "needs_background": "light"
          }
        }
      ]
    },
    {
      "cell_type": "markdown",
      "metadata": {
        "id": "bDzm0F4T3fiN",
        "colab_type": "text"
      },
      "source": [
        "On EDA of the 'Time' feature, we can see that the number of transactions falls sharply during a particular time interval. There are some regions of time where the number of transactions are very high and there some regions in time where the number of transactions are very low.\n",
        "\n",
        "On EDA of the 'Amount' features, we see that the distribution is highly skewed towards the left. There are very small number of higher value transactions which happens in the course of 2 days."
      ]
    },
    {
      "cell_type": "code",
      "metadata": {
        "id": "B0NwaGdz3kyo",
        "colab_type": "code",
        "outputId": "4ffbafaf-13b3-4fd4-93ee-411d334ce0d3",
        "colab": {
          "base_uri": "https://localhost:8080/",
          "height": 255
        }
      },
      "source": [
        "#Let us get some basic information about the amount columns\n",
        "print(\"The lowest transaction amount is: $\",data['Amount'].min())\n",
        "print(\"The highest transaction amount is: $\",data['Amount'].max())\n",
        "print(\"The median transaction amount is: $\",data['Amount'].median())\n",
        "print(\"The average transaction amount is: $\",data['Amount'].mean())\n",
        "\n",
        "print(\"\\nThe lowest transaction amount for fraud transaction is: $\",data[data.Class == 1]['Amount'].min())\n",
        "print(\"The highest transaction amount for fraud transaction is: $\",data[data.Class == 1]['Amount'].max())\n",
        "print(\"The median transaction amount for fraud transaction is: $\",data[data.Class == 1]['Amount'].median())\n",
        "print(\"The average transaction amount for fraud transaction is: $\",data[data.Class == 1]['Amount'].mean())\n",
        "\n",
        "print(\"\\nThe lowest transaction amount for non fraud transaction is: $\",data[data.Class == 0]['Amount'].min())\n",
        "print(\"The highest transaction amount for non fraud transaction is: $\",data[data.Class == 0]['Amount'].max())\n",
        "print(\"The median transaction amount for non fraud transaction is: $\",data[data.Class == 0]['Amount'].median())\n",
        "print(\"The average transaction amount for non fraud transaction is: $\",data[data.Class == 0]['Amount'].mean())"
      ],
      "execution_count": 16,
      "outputs": [
        {
          "output_type": "stream",
          "text": [
            "The lowest transaction amount is: $ 0.0\n",
            "The highest transaction amount is: $ 25691.16\n",
            "The median transaction amount is: $ 22.0\n",
            "The average transaction amount is: $ 88.34961925087359\n",
            "\n",
            "The lowest transaction amount for fraud transaction is: $ 0.0\n",
            "The highest transaction amount for fraud transaction is: $ 2125.87\n",
            "The median transaction amount for fraud transaction is: $ 9.25\n",
            "The average transaction amount for fraud transaction is: $ 122.21132113821133\n",
            "\n",
            "The lowest transaction amount for non fraud transaction is: $ 0.0\n",
            "The highest transaction amount for non fraud transaction is: $ 25691.16\n",
            "The median transaction amount for non fraud transaction is: $ 22.0\n",
            "The average transaction amount for non fraud transaction is: $ 88.29102242225574\n"
          ],
          "name": "stdout"
        }
      ]
    },
    {
      "cell_type": "code",
      "metadata": {
        "id": "9W6NSpR_3nwW",
        "colab_type": "code",
        "colab": {}
      },
      "source": [
        "#Colum standardize the time and amount column\n",
        "from sklearn.preprocessing import StandardScaler\n",
        "data[\"Norm_Time\"]=StandardScaler().fit_transform(data['Time'].values.reshape(-1,1))\n",
        "data[\"Norm_Amount\"]=StandardScaler().fit_transform(data['Amount'].values.reshape(-1,1))\n",
        "data=data.drop([\"Amount\",\"Time\"], axis=1)"
      ],
      "execution_count": 0,
      "outputs": []
    },
    {
      "cell_type": "code",
      "metadata": {
        "id": "UsiJQXEu3wzs",
        "colab_type": "code",
        "outputId": "df02d14e-02c5-4b44-9f8c-b27a888b7fe9",
        "colab": {
          "base_uri": "https://localhost:8080/",
          "height": 608
        }
      },
      "source": [
        "\n",
        "#Get Corelation Matrix between all the features present in the data\n",
        "cor_matr = data.corr()\n",
        "plt.figure(figsize=(10,10))\n",
        "sns.heatmap(cor_matr,square='True',cmap='Spectral_r')\n",
        "plt.title('Corelation amongst all the features in the imbalanced dataset')\n",
        "plt.show()"
      ],
      "execution_count": 18,
      "outputs": [
        {
          "output_type": "display_data",
          "data": {
            "image/png": "[encoded data removed]",
            "text/plain": [
              "<Figure size 720x720 with 2 Axes>"
            ]
          },
          "metadata": {
            "tags": [],
            "needs_background": "light"
          }
        }
      ]
    },
    {
      "cell_type": "markdown",
      "metadata": {
        "id": "PYoEBWDf328l",
        "colab_type": "text"
      },
      "source": [
        "Using seaborn we can draw corelation heatmaps which are basically same as corelation matrices. In case of a corelation heatmaps we will use color codings instead of corelation coefficient values to determine whether features have a positive or a negative corelation. A red color indicates the features have a strong positive corelation between them and a blue color indicates that two features have a strong negative corelation between themeselves."
      ]
    },
    {
      "cell_type": "code",
      "metadata": {
        "id": "eO8lbRaT6wUL",
        "colab_type": "code",
        "outputId": "8ae327c6-2f40-494e-f35e-ad938a9e42c7",
        "colab": {
          "base_uri": "https://localhost:8080/",
          "height": 17
        }
      },
      "source": [
        "#Implement LOF for the imabalanced data set and get information about class \n",
        "from sklearn.neighbors import LocalOutlierFactor\n",
        "from sklearn.metrics import classification_report, accuracy_score, recall_score\n",
        "import gc\n",
        "X=data.drop(['Class'],axis=1)\n",
        "y_actual=data['Class'].values\n",
        "\n",
        "neighbors=[10,20,30,50,70,100,150,200,300, 350, 400, 450, 500, 600]\n",
        "recall_scores=[]\n",
        "for n in neighbors:\n",
        "    model=LocalOutlierFactor(n_neighbors=n,n_jobs=-1,contamination=fraud/total)\n",
        "    y_pred = model.fit_predict(X)\n",
        "    # Reshape the prediction values to 0 for valid, 1 for fraud. \n",
        "    y_pred[y_pred == 1] = 0\n",
        "    y_pred[y_pred == -1] = 1\n",
        "    score=recall_score(y_actual,y_pred)\n",
        "    recall_scores.append(score)\n",
        "    print(\"\\nRecall scores for neighbors = {} is = {}\".format(n,score))\n",
        "    print(\"Accuracy scores for neighbors = {} is = {}\".format(n,accuracy_score(y_actual,y_pred)))\n",
        "    gc.collect()"
      ],
      "execution_count": 0,
      "outputs": [
        {
          "output_type": "stream",
          "text": [
            "\n",
            "Recall scores for neighbors = 10 is = 0.0\n",
            "Accuracy scores for neighbors = 10 is = 0.9965450287387599\n",
            "\n",
            "Recall scores for neighbors = 20 is = 0.0\n",
            "Accuracy scores for neighbors = 20 is = 0.9965450287387599\n"
          ],
          "name": "stdout"
        }
      ]
    },
    {
      "cell_type": "markdown",
      "metadata": {
        "id": "GV4xQAqD49MO",
        "colab_type": "text"
      },
      "source": [
        "**Under-sample the dataset to balance the classes**\n",
        "\n",
        "Since the dataset is highly imbalanced there are broadly two strategies we will follow to correctly sample our dataset - under-sampling the dataset and over-sampling the dataset.\n",
        "\n",
        "In this section we will use a data under-sampling technique where we will sample the data based on the number of instances we have in our minority class. In order to create the final dataset, we will take equal number of sample from both the classes, concatenate them into a single dataset and perform random shuffling to shuffle the data. The resultant dataset will contain 50% points from each of the classes.\n",
        "\n",
        "Under-sampling helps us get rid of the problem of data imbalanced, but at the same time we are discarding huge amount of data to build our models. We can negate this by using certain data over sampling strategies. In a later section, we will implement something called SMOTE algorithm - a technique used to oversample an imbalanced dataset by adding synthetic points. We will discuss about SMOTE when we implement it."
      ]
    },
    {
      "cell_type": "code",
      "metadata": {
        "id": "AYKxuxrd5DOn",
        "colab_type": "code",
        "colab": {}
      },
      "source": [
        "state=48"
      ],
      "execution_count": 0,
      "outputs": []
    },
    {
      "cell_type": "code",
      "metadata": {
        "id": "jAs7z7kk5GEE",
        "colab_type": "code",
        "colab": {}
      },
      "source": [
        "#Number of data_fraudulent transaction in the whole data\n",
        "data_fraud=data[data['Class']==1]\n",
        "data_valid=data[data['Class']==0].sample(data_fraud.shape[0],random_state=state)\n",
        "data_under=pd.concat([data_fraud,data_valid])\n",
        "\n",
        "#We will shuffle our dataset after concatenating\n",
        "data_under = data_under.sample(frac=1).reset_index(drop=True)\n",
        "data_under.head()"
      ],
      "execution_count": 0,
      "outputs": []
    },
    {
      "cell_type": "code",
      "metadata": {
        "id": "ZokKfjj35IRj",
        "colab_type": "code",
        "colab": {}
      },
      "source": [
        "#Check the class distribution in the given data\n",
        "data_under['Class'].value_counts().plot(figsize=(6,6),kind='bar')\n",
        "plt.title(\"Distribution of class labels\")\n",
        "plt.xlabel(\"Classes\")\n",
        "plt.ylabel(\"Number of occurences\")\n",
        "plt.show()\n"
      ],
      "execution_count": 0,
      "outputs": []
    },
    {
      "cell_type": "markdown",
      "metadata": {
        "id": "_eDPgysf5S0H",
        "colab_type": "text"
      },
      "source": [
        ""
      ]
    },
    {
      "cell_type": "markdown",
      "metadata": {
        "id": "jtjIur1q5S9E",
        "colab_type": "text"
      },
      "source": [
        "As we can see, the distribution of class labels is almost equal after we have under-sampled the dataset. This under-sampled dataset now contains 50% class labels from the fraudulent class and 50% class labels from the non fraudulent class."
      ]
    },
    {
      "cell_type": "code",
      "metadata": {
        "id": "umwM0NJ55XA-",
        "colab_type": "code",
        "colab": {}
      },
      "source": [
        "#Get percentage fradulent information in the balanced dataset\n",
        "not_fraud=data_under[data_under['Class']==0].shape[0]\n",
        "fraud=data_under[data_under['Class']==1].shape[0]\n",
        "total=fraud+not_fraud\n",
        "\n",
        "print(\"Percentage of Fradulent transaction: {}\".format(np.round(100*fraud/total,4)))\n",
        "print(\"Percentage of Non Fradulent transaction: {}\".format(np.round(100*not_fraud/total,4)))"
      ],
      "execution_count": 0,
      "outputs": []
    },
    {
      "cell_type": "code",
      "metadata": {
        "id": "Yfivg7mhITFr",
        "colab_type": "code",
        "colab": {}
      },
      "source": [
        "#Get Corelation Matrix between all the features present in the under sampled data\n",
        "cor_matr = data_under.corr()\n",
        "plt.figure(figsize=(10,10))\n",
        "sn.heatmap(cor_matr,square='True',cmap='Spectral_r')\n",
        "plt.title('Corelation amongst all the features in the balanced dataset')\n",
        "plt.show()"
      ],
      "execution_count": 0,
      "outputs": []
    },
    {
      "cell_type": "markdown",
      "metadata": {
        "id": "PK6T9w0YIYsj",
        "colab_type": "text"
      },
      "source": [
        "In the corelation heatmap above, we can see that there are some features like V2, V4, V11, V19 which has a strong positive corelation to the class label. This means as the value of these features increases, there is a higher chance that a transaction will be fraudulent one.\n",
        "\n",
        "The features V3, V10, V12, V14 and V16 seems to have a higher negative corelation to the class labels. This means as these value decreases there is a higher chance that a transaction will be a fraudulent one."
      ]
    },
    {
      "cell_type": "code",
      "metadata": {
        "id": "FrEaEhHjIcCA",
        "colab_type": "code",
        "colab": {}
      },
      "source": [
        "#Check the distribution of all the independent variables for the under sampled dataset\n",
        "data_under.drop(['Class','Norm_Amount','Norm_Time'],axis=1).hist(bins=200,color='red',figsize=(25,50),layout=(8,4))\n",
        "plt.show()"
      ],
      "execution_count": 0,
      "outputs": []
    },
    {
      "cell_type": "code",
      "metadata": {
        "id": "vfko1c0BIh4c",
        "colab_type": "code",
        "colab": {}
      },
      "source": [
        "features=[i for i in data_under.drop(['Class','Norm_Amount','Norm_Time'],axis=1).columns]\n",
        "len(features)"
      ],
      "execution_count": 0,
      "outputs": []
    },
    {
      "cell_type": "markdown",
      "metadata": {
        "id": "p5_jl-YOIl9j",
        "colab_type": "text"
      },
      "source": [
        "**Box Plots**\n",
        "\n",
        "What is a box-plot and why is it useful?\n",
        "\n",
        "Box plot is a very powerful statistical tool which can be used to represent statistical information like median, quantiles and inter-quartile range in a single plot."
      ]
    },
    {
      "cell_type": "code",
      "metadata": {
        "id": "Aw7B7Zq2Ivmh",
        "colab_type": "code",
        "colab": {}
      },
      "source": [
        "#Draw box plots of all the features\n",
        "plt.figure(figsize=(14, 8))\n",
        "\n",
        "fig, axes = plt.subplots(nrows=7, ncols=4, figsize=(20,40))\n",
        "\n",
        "i_ax=0\n",
        "for i in range(len(features[0:4])):\n",
        "    sn.boxplot(x=\"Class\", y=features[i], data=data_under, ax=axes[i_ax,i])\n",
        "    axes[i_ax,i].set_title('Class vs {}'.format(features[i]))\n",
        "    \n",
        "i_ax=1\n",
        "for i in range(len(features[4:8])):\n",
        "    sn.boxplot(x=\"Class\", y=features[4+i], data=data_under, ax=axes[i_ax,i])\n",
        "    axes[i_ax,i].set_title('Class vs {}'.format(features[4+i]))\n",
        "    \n",
        "i_ax=2\n",
        "for i in range(len(features[8:12])):\n",
        "    sn.boxplot(x=\"Class\", y=features[8+i], data=data_under, ax=axes[i_ax,i])\n",
        "    axes[i_ax,i].set_title('Class vs {}'.format(features[8+i]))\n",
        "    \n",
        "i_ax=3\n",
        "for i in range(len(features[12:16])):\n",
        "    sn.boxplot(x=\"Class\", y=features[12+i], data=data_under, ax=axes[i_ax,i])\n",
        "    axes[i_ax,i].set_title('Class vs {}'.format(features[12+i]))\n",
        "    \n",
        "i_ax=4\n",
        "for i in range(len(features[16:20])):\n",
        "    sn.boxplot(x=\"Class\", y=features[16+i], data=data_under, ax=axes[i_ax,i])\n",
        "    axes[i_ax,i].set_title('Class vs {}'.format(features[16+i]))\n",
        "    \n",
        "i_ax=5\n",
        "for i in range(len(features[20:24])):\n",
        "    sn.boxplot(x=\"Class\", y=features[20+i], data=data_under, ax=axes[i_ax,i])\n",
        "    axes[i_ax,i].set_title('Class vs {}'.format(features[20+i]))\n",
        "    \n",
        "i_ax=6\n",
        "for i in range(len(features[24:28])):\n",
        "    sn.boxplot(x=\"Class\", y=features[24+i], data=data_under, ax=axes[i_ax,i])\n",
        "    axes[i_ax,i].set_title('Class vs {}'.format(features[24+i]))\n",
        "    \n",
        "i_ax=7\n",
        "for i in range(len(features[28:32])):\n",
        "    sn.boxplot(x=\"Class\", y=features[28+i], data=data_under, ax=axes[i_ax,i])\n",
        "    axes[i_ax,i].set_title('Class vs {}'.format(features[28+i]))\n",
        "    \n",
        "plt.show()"
      ],
      "execution_count": 0,
      "outputs": []
    },
    {
      "cell_type": "markdown",
      "metadata": {
        "id": "LpKPrUwBI4VJ",
        "colab_type": "text"
      },
      "source": [
        "**PDF Distribution**"
      ]
    },
    {
      "cell_type": "code",
      "metadata": {
        "id": "r8oCRDZMJAHK",
        "colab_type": "code",
        "colab": {}
      },
      "source": [
        "plt.figure(figsize=(16, 8))\n",
        "\n",
        "plt.subplot(1,4,1)\n",
        "sn.distplot(data_under[data_under['Class'] == 1]['V1'][0:] , label = \"1\", color = 'red')\n",
        "sn.distplot(data_under[data_under['Class'] == 0]['V1'][0:] , label = \"0\" , color = 'blue' )\n",
        "\n",
        "plt.subplot(1,4,2)\n",
        "sn.distplot(data_under[data_under['Class'] == 1]['V2'][0:] , label = \"1\", color = 'red')\n",
        "sn.distplot(data_under[data_under['Class'] == 0]['V2'][0:] , label = \"0\" , color = 'blue' )\n",
        "\n",
        "plt.subplot(1,4,3)\n",
        "sn.distplot(data_under[data_under['Class'] == 1]['V3'][0:] , label = \"1\", color = 'red')\n",
        "sn.distplot(data_under[data_under['Class'] == 0]['V3'][0:] , label = \"0\" , color = 'blue' )\n",
        "\n",
        "plt.subplot(1,4,4)\n",
        "sn.distplot(data_under[data_under['Class'] == 1]['V4'][0:] , label = \"1\", color = 'red')\n",
        "sn.distplot(data_under[data_under['Class'] == 0]['V4'][0:] , label = \"0\" , color = 'blue' )\n",
        "\n",
        "plt.show()"
      ],
      "execution_count": 0,
      "outputs": []
    },
    {
      "cell_type": "markdown",
      "metadata": {
        "id": "7enmRUS2JHsI",
        "colab_type": "text"
      },
      "source": [
        "Here we can see that for features V1, V2, V3 and V4 the class distributions are partially separable. All the distributions are highly skewed. For V4, there is more partial separatability as compared to the other features."
      ]
    },
    {
      "cell_type": "code",
      "metadata": {
        "id": "rQOpxElRJIgS",
        "colab_type": "code",
        "colab": {}
      },
      "source": [
        "plt.figure(figsize=(16, 8))\n",
        "\n",
        "plt.subplot(1,4,1)\n",
        "sn.distplot(data_under[data_under['Class'] == 1]['V5'][0:] , label = \"1\", color = 'red')\n",
        "sn.distplot(data_under[data_under['Class'] == 0]['V5'][0:] , label = \"0\" , color = 'blue' )\n",
        "\n",
        "plt.subplot(1,4,2)\n",
        "sn.distplot(data_under[data_under['Class'] == 1]['V6'][0:] , label = \"1\", color = 'red')\n",
        "sn.distplot(data_under[data_under['Class'] == 0]['V6'][0:] , label = \"0\" , color = 'blue' )\n",
        "\n",
        "plt.subplot(1,4,3)\n",
        "sn.distplot(data_under[data_under['Class'] == 1]['V7'][0:] , label = \"1\", color = 'red')\n",
        "sn.distplot(data_under[data_under['Class'] == 0]['V7'][0:] , label = \"0\" , color = 'blue' )\n",
        "\n",
        "plt.subplot(1,4,4)\n",
        "sn.distplot(data_under[data_under['Class'] == 1]['V8'][0:] , label = \"1\", color = 'red')\n",
        "sn.distplot(data_under[data_under['Class'] == 0]['V8'][0:] , label = \"0\" , color = 'blue' )\n",
        "\n",
        "plt.show()\n"
      ],
      "execution_count": 0,
      "outputs": []
    },
    {
      "cell_type": "markdown",
      "metadata": {
        "id": "2q0IsobzJOjJ",
        "colab_type": "text"
      },
      "source": [
        "For V5 and V6, the class distributions are partially separable. For V7 and V8 the class distributions are almost overlapping and there is no clear way of separating these features based on their class labels."
      ]
    },
    {
      "cell_type": "code",
      "metadata": {
        "id": "YM5iMjEiJPSc",
        "colab_type": "code",
        "colab": {}
      },
      "source": [
        "plt.figure(figsize=(16, 8))\n",
        "\n",
        "plt.subplot(1,4,1)\n",
        "sn.distplot(data_under[data_under['Class'] == 1]['V9'][0:] , label = \"1\", color = 'red')\n",
        "sn.distplot(data_under[data_under['Class'] == 0]['V9'][0:] , label = \"0\" , color = 'blue' )\n",
        "\n",
        "plt.subplot(1,4,2)\n",
        "sn.distplot(data_under[data_under['Class'] == 1]['V10'][0:] , label = \"1\", color = 'red')\n",
        "sn.distplot(data_under[data_under['Class'] == 0]['V10'][0:] , label = \"0\" , color = 'blue' )\n",
        "\n",
        "plt.subplot(1,4,3)\n",
        "sn.distplot(data_under[data_under['Class'] == 1]['V11'][0:] , label = \"1\", color = 'red')\n",
        "sn.distplot(data_under[data_under['Class'] == 0]['V11'][0:] , label = \"0\" , color = 'blue' )\n",
        "\n",
        "plt.subplot(1,4,4)\n",
        "sn.distplot(data_under[data_under['Class'] == 1]['V12'][0:] , label = \"1\", color = 'red')\n",
        "sn.distplot(data_under[data_under['Class'] == 0]['V12'][0:] , label = \"0\" , color = 'blue' )\n",
        "\n",
        "plt.show()"
      ],
      "execution_count": 0,
      "outputs": []
    },
    {
      "cell_type": "markdown",
      "metadata": {
        "id": "EX6FA_4bJd3I",
        "colab_type": "text"
      },
      "source": [
        "Here again, we see a lot of partial separability between the class labels for all four of these features."
      ]
    },
    {
      "cell_type": "code",
      "metadata": {
        "id": "5Ol5we0OJeko",
        "colab_type": "code",
        "colab": {}
      },
      "source": [
        "plt.figure(figsize=(16, 8))\n",
        "\n",
        "plt.subplot(1,4,1)\n",
        "sn.distplot(data_under[data_under['Class'] == 1]['V13'][0:] , label = \"1\", color = 'red')\n",
        "sn.distplot(data_under[data_under['Class'] == 0]['V13'][0:] , label = \"0\" , color = 'blue' )\n",
        "\n",
        "plt.subplot(1,4,2)\n",
        "sn.distplot(data_under[data_under['Class'] == 1]['V14'][0:] , label = \"1\", color = 'red')\n",
        "sn.distplot(data_under[data_under['Class'] == 0]['V14'][0:] , label = \"0\" , color = 'blue' )\n",
        "\n",
        "plt.subplot(1,4,3)\n",
        "sn.distplot(data_under[data_under['Class'] == 1]['V15'][0:] , label = \"1\", color = 'red')\n",
        "sn.distplot(data_under[data_under['Class'] == 0]['V15'][0:] , label = \"0\" , color = 'blue' )\n",
        "\n",
        "plt.subplot(1,4,4)\n",
        "sn.distplot(data_under[data_under['Class'] == 1]['V16'][0:] , label = \"1\", color = 'red')\n",
        "sn.distplot(data_under[data_under['Class'] == 0]['V16'][0:] , label = \"0\" , color = 'blue' )\n",
        "\n",
        "plt.show()"
      ],
      "execution_count": 0,
      "outputs": []
    },
    {
      "cell_type": "markdown",
      "metadata": {
        "id": "obsYMzC8JoLz",
        "colab_type": "text"
      },
      "source": [
        "V13, V15 features are highly overlapping as far as their class label is concerned. V14 and V16 features has some partial separability as far as their class label is concerned."
      ]
    },
    {
      "cell_type": "code",
      "metadata": {
        "id": "xFjnC-k_Jo4u",
        "colab_type": "code",
        "colab": {}
      },
      "source": [
        "plt.figure(figsize=(16, 8))\n",
        "\n",
        "plt.subplot(1,4,1)\n",
        "sn.distplot(data_under[data_under['Class'] == 1]['V17'][0:] , label = \"1\", color = 'red')\n",
        "sn.distplot(data_under[data_under['Class'] == 0]['V17'][0:] , label = \"0\" , color = 'blue' )\n",
        "\n",
        "plt.subplot(1,4,2)\n",
        "sn.distplot(data_under[data_under['Class'] == 1]['V18'][0:] , label = \"1\", color = 'red')\n",
        "sn.distplot(data_under[data_under['Class'] == 0]['V18'][0:] , label = \"0\" , color = 'blue' )\n",
        "\n",
        "plt.subplot(1,4,3)\n",
        "sn.distplot(data_under[data_under['Class'] == 1]['V19'][0:] , label = \"1\", color = 'red')\n",
        "sn.distplot(data_under[data_under['Class'] == 0]['V19'][0:] , label = \"0\" , color = 'blue' )\n",
        "\n",
        "plt.subplot(1,4,4)\n",
        "sn.distplot(data_under[data_under['Class'] == 1]['V20'][0:] , label = \"1\", color = 'red')\n",
        "sn.distplot(data_under[data_under['Class'] == 0]['V20'][0:] , label = \"0\" , color = 'blue' )\n",
        "\n",
        "plt.show()"
      ],
      "execution_count": 0,
      "outputs": []
    },
    {
      "cell_type": "markdown",
      "metadata": {
        "id": "QgK_lorbJxUj",
        "colab_type": "text"
      },
      "source": [
        "\n",
        "Here the spread of the fraudulent class is more as compared to the spread in non fraudulent class."
      ]
    },
    {
      "cell_type": "code",
      "metadata": {
        "id": "4FCL1AeTJx9-",
        "colab_type": "code",
        "colab": {}
      },
      "source": [
        "plt.figure(figsize=(16, 8))\n",
        "\n",
        "plt.subplot(1,4,1)\n",
        "sn.distplot(data_under[data_under['Class'] == 1]['V21'][0:] , label = \"1\", color = 'red')\n",
        "sn.distplot(data_under[data_under['Class'] == 0]['V21'][0:] , label = \"0\" , color = 'blue' )\n",
        "\n",
        "plt.subplot(1,4,2)\n",
        "sn.distplot(data_under[data_under['Class'] == 1]['V22'][0:] , label = \"1\", color = 'red')\n",
        "sn.distplot(data_under[data_under['Class'] == 0]['V22'][0:] , label = \"0\" , color = 'blue' )\n",
        "\n",
        "plt.subplot(1,4,3)\n",
        "sn.distplot(data_under[data_under['Class'] == 1]['V23'][0:] , label = \"1\", color = 'red')\n",
        "sn.distplot(data_under[data_under['Class'] == 0]['V23'][0:] , label = \"0\" , color = 'blue' )\n",
        "\n",
        "plt.subplot(1,4,4)\n",
        "sn.distplot(data_under[data_under['Class'] == 1]['V24'][0:] , label = \"1\", color = 'red')\n",
        "sn.distplot(data_under[data_under['Class'] == 0]['V24'][0:] , label = \"0\" , color = 'blue' )\n",
        "\n",
        "plt.show()"
      ],
      "execution_count": 0,
      "outputs": []
    },
    {
      "cell_type": "markdown",
      "metadata": {
        "id": "Bk8__ydPJ3-k",
        "colab_type": "text"
      },
      "source": [
        "\n",
        "The class distribution of these features - V21, V22, V23 and V24 are completely inseparable. The distributions are highly overlapping with no way to separate the class labels."
      ]
    },
    {
      "cell_type": "code",
      "metadata": {
        "id": "A6JIxhPmJ4ol",
        "colab_type": "code",
        "colab": {}
      },
      "source": [
        "plt.figure(figsize=(16, 8))\n",
        "\n",
        "plt.subplot(1,4,1)\n",
        "sn.distplot(data_under[data_under['Class'] == 1]['V25'][0:] , label = \"1\", color = 'red')\n",
        "sn.distplot(data_under[data_under['Class'] == 0]['V25'][0:] , label = \"0\" , color = 'blue' )\n",
        "\n",
        "plt.subplot(1,4,2)\n",
        "sn.distplot(data_under[data_under['Class'] == 1]['V26'][0:] , label = \"1\", color = 'red')\n",
        "sn.distplot(data_under[data_under['Class'] == 0]['V26'][0:] , label = \"0\" , color = 'blue' )\n",
        "\n",
        "plt.subplot(1,4,3)\n",
        "sn.distplot(data_under[data_under['Class'] == 1]['V27'][0:] , label = \"1\", color = 'red')\n",
        "sn.distplot(data_under[data_under['Class'] == 0]['V27'][0:] , label = \"0\" , color = 'blue' )\n",
        "\n",
        "plt.subplot(1,4,4)\n",
        "sn.distplot(data_under[data_under['Class'] == 1]['V28'][0:] , label = \"1\", color = 'red')\n",
        "sn.distplot(data_under[data_under['Class'] == 0]['V28'][0:] , label = \"0\" , color = 'blue' )\n",
        "\n",
        "plt.show()"
      ],
      "execution_count": 0,
      "outputs": []
    },
    {
      "cell_type": "markdown",
      "metadata": {
        "id": "eL35wdmiJ9aY",
        "colab_type": "text"
      },
      "source": [
        "Here again we see that these features cannot be separated well based on their class labels. The class distributions are highly overlapping."
      ]
    },
    {
      "cell_type": "code",
      "metadata": {
        "id": "bSWrkkrwJ-Ew",
        "colab_type": "code",
        "colab": {}
      },
      "source": [
        "plt.figure(figsize=(16, 8))\n",
        "\n",
        "plt.subplot(1,2,1)\n",
        "sn.distplot(data_under[data_under['Class'] == 1]['Norm_Time'][0:] , label = \"1\", color = 'red')\n",
        "sn.distplot(data_under[data_under['Class'] == 0]['Norm_Time'][0:] , label = \"0\" , color = 'blue' )\n",
        "\n",
        "plt.subplot(1,2,2)\n",
        "sn.distplot(data_under[data_under['Class'] == 1]['Norm_Amount'][0:] , label = \"1\", color = 'red')\n",
        "sn.distplot(data_under[data_under['Class'] == 0]['Norm_Amount'][0:] , label = \"0\" , color = 'blue' )\n",
        "\n",
        "\n",
        "plt.show()"
      ],
      "execution_count": 0,
      "outputs": []
    },
    {
      "cell_type": "markdown",
      "metadata": {
        "id": "nfnEs2EGKHh6",
        "colab_type": "text"
      },
      "source": [
        "**Splitting the data into train and test datasets**\n",
        "\n",
        "Before building our machine learning models, we will split the dataset in such a way that 80% of the undersample data goes to our training set and 20% data from the undersampled class goes to our test set. We will make use of the 'stratify' argument to make sure we have equal distribution of class labels in both the training as well as test sets.\n",
        "\n",
        "After the initial splitting, we have 787 points in our training dataset and 197 points in our test dataset. We will build machine learning models using these 787 points and then evaluate the performance of each of our models on the test set."
      ]
    },
    {
      "cell_type": "code",
      "metadata": {
        "id": "TGaBlzDMKTMN",
        "colab_type": "code",
        "colab": {}
      },
      "source": [
        "from sklearn.model_selection import train_test_split\n",
        "\n",
        "X=data_under.drop(\"Class\", axis=1)\n",
        "y=data_under['Class']\n",
        "\n",
        "X_train, X_test, y_train, y_test = train_test_split(X, y, test_size=0.20, stratify=y, random_state=state)\n",
        "\n",
        "print('Number of data points in train data:', X_train.shape[0])\n",
        "print('Number of data points in test data:', X_test.shape[0])"
      ],
      "execution_count": 0,
      "outputs": []
    },
    {
      "cell_type": "markdown",
      "metadata": {
        "id": "ZJGRlOfjKW2f",
        "colab_type": "text"
      },
      "source": [
        "**Check the distribution of train and test data after splitting the original dataset**\n",
        "\n",
        "This is a sanity check we need to perform to check if the distribution of class labels is same in both the training as well as the test set. We can see that in both the train as well as the test sets, the class labels are distributed almost equally at 50% data points from each of the classes."
      ]
    },
    {
      "cell_type": "code",
      "metadata": {
        "id": "2qu0703tKd-r",
        "colab_type": "code",
        "colab": {}
      },
      "source": [
        "# it returns a dict, keys as class labels and values as the number of data points in that class\n",
        "train_class_distribution = y_train.value_counts().sortlevel()\n",
        "test_class_distribution = y_test.value_counts().sortlevel()\n",
        "\n",
        "my_colors = [\"b\",\"g\"]\n",
        "train_class_distribution.plot(kind='bar', color=my_colors)\n",
        "plt.xlabel('Class')\n",
        "plt.ylabel('Data points per Class')\n",
        "plt.title('Distribution of labels in train data')\n",
        "plt.grid()\n",
        "plt.show()\n",
        "\n",
        "# ref: argsort https://docs.scipy.org/doc/numpy/reference/generated/numpy.argsort.html\n",
        "# -(train_class_distribution.values): the minus sign will give us in decreasing order\n",
        "sorted_yi = np.argsort(-train_class_distribution.values)\n",
        "for i in sorted_yi:\n",
        "    print('Number of data points in class', i+1, ':',train_class_distribution.values[i], '(', np.round((train_class_distribution.values[i]/y_train.shape[0]*100), 3), '%)')\n",
        "    \n",
        "print('-'*80)\n",
        "test_class_distribution.plot(kind='bar', color=my_colors)\n",
        "plt.xlabel('Class')\n",
        "plt.ylabel('Data points per Class')\n",
        "plt.title('Distribution of labels in test data')\n",
        "plt.grid()\n",
        "plt.show()\n",
        "\n",
        "# ref: argsort https://docs.scipy.org/doc/numpy/reference/generated/numpy.argsort.html\n",
        "# -(train_class_distribution.values): the minus sign will give us in decreasing order\n",
        "sorted_yi = np.argsort(-test_class_distribution.values)\n",
        "for i in sorted_yi:\n",
        "    print('Number of data points in class', i+1, ':',test_class_distribution.values[i], '(', np.round((test_class_distribution.values[i]/y_test.shape[0]*100), 3), '%)')\n"
      ],
      "execution_count": 0,
      "outputs": []
    },
    {
      "cell_type": "markdown",
      "metadata": {
        "id": "xaUul78mKhMI",
        "colab_type": "text"
      },
      "source": [
        "**Dimensionality reduction using TSNE**\n",
        "\n",
        "T-SNE stands for t-distributed Stochastic Neighbor Embedding.\n",
        "\n",
        "T-SNE is a tool which is used to visualize high dimensional data in 2 or 3 dimensions. In this section we will try to visualize the high dimensional data in a 2D plot. T-SNE tries to preserve the neighborhood distances between each of the data points when we project them onto a lower dimensional space. We will try plotting the T-SNE with various values of perplexities and see if the resultant plot can separate the positive and negative classes well."
      ]
    },
    {
      "cell_type": "code",
      "metadata": {
        "id": "nnvk0MipKw-K",
        "colab_type": "code",
        "colab": {}
      },
      "source": [
        "from MulticoreTSNE import MulticoreTSNE as TSNE\n",
        "def tsne(dataset, labels, perplexity):\n",
        "    labels=labels.apply(lambda x: 'Fraud' if x==1.0 else 'Not Fraud')\n",
        "    '''This function is used to plot the t-sne for any input dataset using their corresponding class labels,\n",
        "    using two dimensions.'''\n",
        "    \n",
        "    #Starting TSNE dataset transform\n",
        "    model = TSNE(n_components=2, init='random', random_state=0, verbose=2, n_jobs=-1, angle=0.5, method='barnes_hut', perplexity=perplexity, n_iter=2000)\n",
        "    tsne_data = model.fit_transform(dataset)\n",
        "\n",
        "    #Creating a new data frame which help us in ploting the result data\n",
        "    tsne_data = np.vstack((tsne_data.T, labels)).T\n",
        "    tsne_df = pd.DataFrame(data=tsne_data, columns=(\"Dimension 1\", \"Dimension 2\", \"Transaction Type\"))\n",
        "    \n",
        "    #Info\n",
        "    print(\"\\nT-SNE Plot for perplexity = {}\".format(perplexity))\n",
        "    \n",
        "    # Ploting the result of tsne\n",
        "    sn.FacetGrid(tsne_df, hue=\"Transaction Type\", height=6).map(plt.scatter, 'Dimension 1', 'Dimension 2').add_legend()\n",
        "    plt.show()"
      ],
      "execution_count": 0,
      "outputs": []
    },
    {
      "cell_type": "markdown",
      "metadata": {
        "id": "kMt2hAtmLH45",
        "colab_type": "text"
      },
      "source": [
        "Observations:\n",
        "\n",
        "Here we have run the algorithm for various values of perplexities. Perplexity values basically tells the T-SNE algorithm the number of neighborhood distances it should preserve. Here we can see that T-SNE plots are able to accurately cluster the data points at various values of perplexity based on whether or not they are fraudulent transactions. A partial separability suggest that our Machine Learning models should perform well on the given dataset."
      ]
    },
    {
      "cell_type": "markdown",
      "metadata": {
        "id": "fwCIZYqzLJgy",
        "colab_type": "text"
      },
      "source": [
        "**Dimensionality Reduction using PCA**"
      ]
    },
    {
      "cell_type": "code",
      "metadata": {
        "id": "f95jJaNtLT2t",
        "colab_type": "code",
        "colab": {}
      },
      "source": [
        "#Initialize the PCA\n",
        "from sklearn import decomposition\n",
        "pca = decomposition.PCA()\n",
        "\n",
        "#Configure the parameteres: Number of components = 2\n",
        "pca.n_components = 2\n",
        "pca_data = pca.fit_transform(X_train)\n",
        "\n",
        "#pca_data will contain the 2-D projections of X_train\n",
        "print(\"Shape of the Data Matrix before reducing dimension: \",X_train.shape)\n",
        "print(\"Shape of the Data Matrix after reducing dimension: \",pca_data.shape)\n",
        "\n",
        "#Attaching the label for each 2D data point. \n",
        "pca_data = np.vstack((pca_data.T, y_train)).T\n",
        "\n",
        "#Creating a new dataframe which help us in ploting the result data. The new dataframe contains the reduced dimension of X_train along with the class label.\n",
        "pca_df = pd.DataFrame(data=pca_data, columns=(\"1st_Principal\", \"2nd_Principal\", \"Label\"))\n",
        "sn.FacetGrid(pca_df, hue=\"Label\", size=6).map(plt.scatter, '1st_Principal', '2nd_Principal').add_legend()\n",
        "plt.show()\n"
      ],
      "execution_count": 0,
      "outputs": []
    },
    {
      "cell_type": "markdown",
      "metadata": {
        "id": "K2qGmRIDLeNe",
        "colab_type": "text"
      },
      "source": [
        "**Functioin to plot Confusion Matrix, Precision Matrix, Recall Matrix**\n",
        "\n",
        "We will use this function to draw the confusion matrix, precision matrix and the recall matrix. We will use the confusion matrix to keep an eye on the false positive values and the recall values. Our main objective of this case study is to build a model which has a high recall value.\n",
        "\n",
        "Confusion Matrix is a tool which helps us to evaluate the performance of our classification model on unseen data. It's a very important tool to evaluate metrics such as Precision, Recall, Accuracy and Area under the ROC curve using these four values - False Positives (FP), False Negatives (FN), True Positives (TP) and True Negatives (TN).\n",
        "\n",
        "Let us understand these four metrics in a bit more detail with regards to the given problem.\n",
        "\n",
        "True Positives (TP): Here the model has predicted the transaction to be fraudulent and in real life the transaction is fraudulent.\n",
        "\n",
        "True Negatives (TN): Here the model has predicted a transaction to be a non-fraudulent one and in real life the transaction is non-fraudulent.\n",
        "\n",
        "False Positives (FP): Here the model has predicted the transactions to be fraudulent whereas in real life the given transaction is not fraudulent. These are also known as Type 1 errors.\n",
        "\n",
        "False Negatives (FN): Here the model has predicted the transactions to be non-fraudulent where as in real life the transactions are fraudulent. These are also known as Type 2 errors.\n",
        "\n",
        "Ideally, for a perfect model, we would want the values of TPs and TNs to be very high and our FPs and FNs to be very low. Also, for this problem it's an absolute necessity to keep the False Negative values as low as possible. In the real world Type 2 errors are much more sever than Type 1 errors. Imagine this scenario - our model predicts a fraudulent transaction as a non fraudulent one. This is much more severe than predicting a non-fraudulent transaction as a fraudulent one.\n",
        "\n",
        "Recall tells us that out of the total number of actual/correctly classified classes how many did our model predicted to belong to the correctly classified class?\n",
        "\n",
        "Precision tells us that out of the total number of predictions how many of them are actually predicted to be true?"
      ]
    },
    {
      "cell_type": "code",
      "metadata": {
        "id": "kbn_7Cy3Ln7i",
        "colab_type": "code",
        "colab": {}
      },
      "source": [
        "# This function plots the confusion matrices given y_i, y_i_hat.\n",
        "def plot_confusion_matrix(test_y, predict_y):\n",
        "    C = confusion_matrix(test_y, predict_y)\n",
        "    # C = 9,9 matrix, each cell (i,j) represents number of points of class i are predicted class j\n",
        "    \n",
        "    A =(((C.T)/(C.sum(axis=1))).T)\n",
        "    #divid each element of the confusion matrix with the sum of elements in that column\n",
        "    \n",
        "    # C = [[1, 2],\n",
        "    #     [3, 4]]\n",
        "    # C.T = [[1, 3],\n",
        "    #        [2, 4]]\n",
        "    # C.sum(axis = 1)  axis=0 corresonds to columns and axis=1 corresponds to rows in two diamensional array\n",
        "    # C.sum(axix =1) = [[3, 7]]\n",
        "    # ((C.T)/(C.sum(axis=1))) = [[1/3, 3/7]\n",
        "    #                           [2/3, 4/7]]\n",
        "\n",
        "    # ((C.T)/(C.sum(axis=1))).T = [[1/3, 2/3]\n",
        "    #                           [3/7, 4/7]]\n",
        "    # sum of row elements = 1\n",
        "    \n",
        "    B =(C/C.sum(axis=0))\n",
        "    #divid each element of the confusion matrix with the sum of elements in that row\n",
        "    # C = [[1, 2],\n",
        "    #     [3, 4]]\n",
        "    # C.sum(axis = 0)  axis=0 corresonds to columns and axis=1 corresponds to rows in two diamensional array\n",
        "    # C.sum(axix =0) = [[4, 6]]\n",
        "    # (C/C.sum(axis=0)) = [[1/4, 2/6],\n",
        "    #                      [3/4, 4/6]] \n",
        "    plt.figure(figsize=(20,4))\n",
        "    \n",
        "    labels = [0,1]\n",
        "    # representing A in heatmap format\n",
        "    cmap=sn.light_palette(\"blue\")\n",
        "    plt.subplot(1, 3, 1)\n",
        "    sn.heatmap(C, annot=True, cmap=cmap, fmt=\".3f\", xticklabels=labels, yticklabels=labels)\n",
        "    plt.xlabel('Predicted Class')\n",
        "    plt.ylabel('Original Class')\n",
        "    plt.title(\"Confusion matrix\")\n",
        "    \n",
        "    plt.subplot(1, 3, 2)\n",
        "    sn.heatmap(B, annot=True, cmap=cmap, fmt=\".3f\", xticklabels=labels, yticklabels=labels)\n",
        "    plt.xlabel('Predicted Class')\n",
        "    plt.ylabel('Original Class')\n",
        "    plt.title(\"Precision matrix\")\n",
        "    \n",
        "    plt.subplot(1, 3, 3)\n",
        "    # representing B in heatmap format\n",
        "    sn.heatmap(A, annot=True, cmap=cmap, fmt=\".3f\", xticklabels=labels, yticklabels=labels)\n",
        "    plt.xlabel('Predicted Class')\n",
        "    plt.ylabel('Original Class')\n",
        "    plt.title(\"Recall matrix\")\n",
        "    \n",
        "    plt.show()"
      ],
      "execution_count": 0,
      "outputs": []
    },
    {
      "cell_type": "markdown",
      "metadata": {
        "id": "yP09k5p-L3kZ",
        "colab_type": "text"
      },
      "source": [
        "**Function to plot the ROC-AUC Curve**\n",
        "\n",
        "ROC curve stands for Receiver operating characteristic curve. In machine learning, ROC curves helps us evaluate our models performance at various threshold settings. ROC curves is a probability curve and AUC stands for the area under the ROC curve. Generally a ROC-AUC curves gives us an idea about how well our model is capable of distinguishing between various class labels. IN ROC-AUC curve, the value of the true positive rates and false positive rates are plotted against each other at various threshold settings. Higher the value of an ROC-AUC curve, the better will be our model in predicting a class 0 label as class 0 and class 1 label as class 1. For this case study, class 1 signifies a fraudulent transaction and class 0 signifies a non-fraudulent transaction.\n",
        "\n",
        "While plotting the ROC-AUC curve, the TPR is taken in Y-Axis and the FPR is taken at X-axis. TPR is also known ans Recall. Mathematically TPR is defined as (TP/TP+FN), and FPR is defined as (FP/TN+FP). We will have to optimize our Machine Learning models such that they maximize the ROC-AUC score."
      ]
    },
    {
      "cell_type": "code",
      "metadata": {
        "id": "Zi_68Ip5MA4t",
        "colab_type": "code",
        "colab": {}
      },
      "source": [
        "#This function is used to plot the ROC curve on both train and test.\n",
        "#https://scikit-learn.org/stable/auto_examples/model_selection/plot_roc.html\n",
        "def plot_roc_curve(classifier, X_train, y_train, X_test, y_test):\n",
        "    from sklearn.metrics import roc_curve, auc\n",
        "    fpr = dict()\n",
        "    tpr = dict()\n",
        "    roc_auc = dict()\n",
        "    \n",
        "    '''TEST DATA ROC CURVE'''\n",
        "    #Use probability scores to compute the ROC Curve\n",
        "    class_probabilities = classifier.predict_proba(X_test)\n",
        "    y_probs = class_probabilities[:,1]\n",
        "    fpr[\"Test\"], tpr[\"Test\"], threshold = roc_curve(y_test, y_probs)\n",
        "    roc_auc[\"Test\"] = auc(fpr[\"Test\"], tpr[\"Test\"])\n",
        "    \n",
        "    '''TRAIN DATA ROC CURVE'''\n",
        "    #Use probability scores to compute the ROC Curve\n",
        "    class_probabilities = classifier.predict_proba(X_train)\n",
        "    y_probs = class_probabilities[:,1]\n",
        "    fpr[\"Train\"], tpr[\"Train\"], threshold = roc_curve(y_train, y_probs)\n",
        "    roc_auc[\"Train\"] = auc(fpr[\"Train\"], tpr[\"Train\"])\n",
        "    \n",
        "    plt.figure(figsize=(15,10))\n",
        "    linewidth = 2\n",
        "    plt.plot(fpr[\"Test\"], tpr[\"Test\"], color='green', lw=linewidth, label='ROC curve Test Data (area = %0.2f)' % roc_auc[\"Test\"])\n",
        "    plt.plot(fpr[\"Train\"], tpr[\"Train\"], color='red', lw=linewidth, label='ROC curve Train Data (area = %0.2f)' % roc_auc[\"Train\"])\n",
        "    plt.plot([0, 1], [0, 1], color='navy', lw=linewidth, linestyle='--', label='Baseline ROC curve (area = 0.5)')\n",
        "    plt.xlim([0.0, 1.0])\n",
        "    plt.ylim([0.0, 1.05])\n",
        "    plt.xlabel('False Positive Rate')\n",
        "    plt.ylabel('True Positive Rate')\n",
        "    plt.title('Receiver operating characteristic example')\n",
        "    plt.legend(loc=\"lower right\")\n",
        "    plt.show()"
      ],
      "execution_count": 0,
      "outputs": []
    },
    {
      "cell_type": "markdown",
      "metadata": {
        "id": "ITTNn2nfMFTD",
        "colab_type": "text"
      },
      "source": [
        "**Generic function to run any model and print the classification metrics**\n",
        "\n",
        "This function is used to evaluate our model on unseen data. We will first obtain the best estimator using either grid search or random search. We will use the best estimator from our model to print the roc-auc scores, the accuracy scores, the recall score and the f1 score. F1 score as we know is the harmonic mean between precision and recall scores. We will also use this function to generate the classification report for each of our models."
      ]
    },
    {
      "cell_type": "code",
      "metadata": {
        "id": "XE-nKhVZMRd0",
        "colab_type": "code",
        "colab": {}
      },
      "source": [
        "def model_report(rsearch_cv, X_train, y_train, X_test, y_test, class_labels):\n",
        "    \n",
        "    #To store results at various phases during training as well as cross validation stages\n",
        "    results = dict()\n",
        "    model = rsearch_cv.best_estimator_\n",
        "    \n",
        "    #Time at which model starts training \n",
        "    train_start_time = dt.now()\n",
        "    print('Training the model...')\n",
        "    model.fit(X_train, y_train)\n",
        "    print('Training completed... \\n \\n')\n",
        "    train_end_time = dt.now()\n",
        "    results['Training_Time'] =  train_end_time - train_start_time\n",
        "    print('Training Time (HH:MM:SS.ms) -- {}\\n\\n'.format(results['Training_Time']))\n",
        "    \n",
        "    \n",
        "    #Predict the test data\n",
        "    print('Predicting test data...')\n",
        "    test_start_time = dt.now()\n",
        "    y_pred = model.predict(X_test)\n",
        "    test_end_time = dt.now()\n",
        "    print('Predicting test data completed... \\n \\n')\n",
        "    results['Testing_Time'] = test_end_time - test_start_time\n",
        "    print('Testing Time(HH:MM:SS:ms) -- {}\\n\\n'.format(results['Testing_Time']))\n",
        "    results['Predicted'] = y_pred\n",
        "   \n",
        "\n",
        "    #Compute the F1 score \n",
        "    f1_score = metrics.f1_score(y_true=y_test, y_pred=y_pred, average='micro') #F1 = 2 * (precision * recall) / (precision + recall)\n",
        "    \n",
        "    #Store F1 Score in results\n",
        "    results['F1_Score'] = f1_score\n",
        "    print('---------------------')\n",
        "    print('|      F1 Score      |')\n",
        "    print('---------------------')\n",
        "    print('\\n    {}\\n\\n'.format(f1_score))      \n",
        "    \n",
        "\n",
        "    #Calculate overall accuracy of the model\n",
        "    accuracy = metrics.accuracy_score(y_true=y_test, y_pred=y_pred)\n",
        "        \n",
        "    #Store the accuracy in results\n",
        "    results['Accuracy'] = accuracy\n",
        "    print('---------------------')\n",
        "    print('|      Accuracy      |')\n",
        "    print('---------------------')\n",
        "    print('\\n    {}\\n\\n'.format(accuracy))\n",
        "    \n",
        "    #Calculate overall recall_score of the model\n",
        "    recall = metrics.recall_score(y_true=y_test, y_pred=y_pred)\n",
        "        \n",
        "    #Store the accuracy in results\n",
        "    results['Recall'] = recall\n",
        "    print('---------------------')\n",
        "    print('|      Recall        |')\n",
        "    print('---------------------')\n",
        "    print('\\n    {}\\n\\n'.format(recall))\n",
        "    \n",
        "    #Calculate overall roc-auc of the model\n",
        "    #Calibrate the model\n",
        "    sig_clf = CalibratedClassifierCV(model, method=\"sigmoid\")\n",
        "    sig_clf.fit(X_train, y_train)\n",
        "    class_probabilities = sig_clf.predict_proba(X_test)\n",
        "    y_probs = class_probabilities[:,1]\n",
        "    roc_auc = metrics.roc_auc_score(y_true=y_test, y_score=y_probs)\n",
        "        \n",
        "    #Store the ROC-AUC in results\n",
        "    results['ROC-AUC'] = roc_auc\n",
        "    print('---------------------')\n",
        "    print('|      ROC AUC       |')\n",
        "    print('---------------------')\n",
        "    print('\\n    {}\\n\\n'.format(roc_auc))   \n",
        "                   \n",
        "    #Display the classification report having individual class recalls and precision values.\n",
        "    print('-------------------------')\n",
        "    print('| Classifiction Report  |')\n",
        "    print('-------------------------')\n",
        "    classification_report = metrics.classification_report(y_test, y_pred)\n",
        "    \n",
        "    #Store report in results\n",
        "    results['Classification_Report'] = classification_report\n",
        "    print(classification_report)\n",
        "    \n",
        "    #Add the trained  model to the results\n",
        "    results['Model'] = model\n",
        "    \n",
        "    #Plot the confusion matrix curve\n",
        "    plot_confusion_matrix(y_test, y_pred)\n",
        "    \n",
        "    return results, model"
      ],
      "execution_count": 0,
      "outputs": []
    },
    {
      "cell_type": "markdown",
      "metadata": {
        "id": "5xm16G8-MVqo",
        "colab_type": "text"
      },
      "source": [
        "**Generic function to print grid/random search results/attributes**\n",
        "\n",
        "This function will be used to print the best estimator obtained using grid search/random search. For each estimator, we will print the best parameters for a given function along with their best scores on the cross validation dataset."
      ]
    },
    {
      "cell_type": "code",
      "metadata": {
        "id": "Muxdl5E6Mfq_",
        "colab_type": "code",
        "colab": {}
      },
      "source": [
        "def print_grid_search_attributes(model):\n",
        "    #Estimator that gave highest score among all the estimators formed in GridSearch\n",
        "    print('--------------------------')\n",
        "    print('|      Best Estimator     |')\n",
        "    print('--------------------------')\n",
        "    print('\\n\\t{}\\n'.format(model.best_estimator_))\n",
        "\n",
        "    #Parameters that gave best results while performing grid search\n",
        "    print('--------------------------')\n",
        "    print('|     Best parameters     |')\n",
        "    print('--------------------------')\n",
        "    print('\\tParameters of best estimator : \\n\\n\\t{}\\n'.format(model.best_params_))\n",
        "\n",
        "    #Number of cross validation splits\n",
        "    print('---------------------------------')\n",
        "    print('|   No of CrossValidation sets   |')\n",
        "    print('--------------------------------')\n",
        "    print('\\n\\tTotal numbre of cross validation sets: {}\\n'.format(model.n_splits_))\n",
        "\n",
        "    #Average cross validated score of the best estimator, from the Grid Search \n",
        "    print('--------------------------')\n",
        "    print('|        Best Score       |')\n",
        "    print('--------------------------')\n",
        "    print('\\n\\tAverage Cross Validate scores of best estimator : \\n\\n\\t{}\\n'.format(model.best_score_))"
      ],
      "execution_count": 0,
      "outputs": []
    }
  ]
}